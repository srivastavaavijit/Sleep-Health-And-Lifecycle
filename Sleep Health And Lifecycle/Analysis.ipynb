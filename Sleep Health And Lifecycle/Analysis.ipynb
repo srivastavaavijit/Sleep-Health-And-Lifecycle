{
 "cells": [
  {
   "cell_type": "code",
   "execution_count": 1,
   "id": "03059a47-b1f1-4aad-aafd-b2a0e4fc64af",
   "metadata": {},
   "outputs": [],
   "source": [
    "import numpy as np\n",
    "import pandas as pd\n",
    "import matplotlib.pyplot as plt\n",
    "import seaborn as sns"
   ]
  },
  {
   "cell_type": "code",
   "execution_count": 2,
   "id": "565aaaa2-887d-47a8-9ab2-734c56a79560",
   "metadata": {},
   "outputs": [],
   "source": [
    "pd.set_option('display.max_columns',None)\n",
    "pd.set_option('display.max_rows',None)"
   ]
  },
  {
   "cell_type": "code",
   "execution_count": 3,
   "id": "df481648-1db8-4aea-84e3-e005bf5bce9f",
   "metadata": {},
   "outputs": [
    {
     "data": {
      "text/plain": [
       "(374, 13)"
      ]
     },
     "execution_count": 3,
     "metadata": {},
     "output_type": "execute_result"
    }
   ],
   "source": [
    "data = pd.read_csv('Sleep_health_and_lifestyle_dataset.csv')\n",
    "data.shape"
   ]
  },
  {
   "cell_type": "raw",
   "id": "823756f9-27e8-4a80-8482-007b3fc68167",
   "metadata": {},
   "source": [
    "Data Assessing:\n",
    "\n",
    "The Sleep Health and Lifestyle Dataset comprises 400 rows and 13 columns, covering a wide range of variables related to sleep and daily habits. It includes details such as gender, age, occupation, sleep duration, quality of sleep, physical activity level, stress levels, BMI category, blood pressure, heart rate, daily steps, and the presence or absence of sleep disorders.\n",
    "\n",
    "\n",
    "\n",
    "Key Features of the Dataset:\n",
    "\n",
    "Comprehensive Sleep Metrics: Explore sleep duration, quality, and factors influencing sleep patterns.\n",
    "Lifestyle Factors: Analyze physical activity levels, stress levels, and BMI categories.\n",
    "Cardiovascular Health: Examine blood pressure and heart rate measurements.\n",
    "Sleep Disorder Analysis: Identify the occurrence of sleep disorders such as Insomnia and Sleep Apnea.\n",
    "\n",
    "\n",
    "\n",
    "Dataset Columns:\n",
    "\n",
    "Person ID: An identifier for each individual.\n",
    "\n",
    "Gender: The gender of the person (Male/Female).\n",
    "\n",
    "Age: The age of the person in years.\n",
    "\n",
    "Occupation: The occupation or profession of the person.\n",
    "\n",
    "Sleep Duration (hours): The number of hours the person sleeps per day.\n",
    "\n",
    "Quality of Sleep (scale: 1-10): A subjective rating of the quality of sleep, ranging from 1 to 10.\n",
    "\n",
    "Physical Activity Level (minutes/day): The number of minutes the person engages in physical activity daily.\n",
    "\n",
    "Stress Level (scale: 1-10): A subjective rating of the stress level experienced by the person, ranging from 1 to 10.\n",
    "\n",
    "BMI Category: The BMI category of the person (e.g., Underweight, Normal, Overweight).\n",
    "\n",
    "Blood Pressure (systolic/diastolic): The blood pressure measurement of the person, indicated as systolic pressure over diastolic pressure.\n",
    "\n",
    "Heart Rate (bpm): The resting heart rate of the person in beats per minute.\n",
    "\n",
    "Daily Steps: The number of steps the person takes per day.\n",
    "\n",
    "Sleep Disorder: The presence or absence of a sleep disorder in the person (None, Insomnia, Sleep Apnea).\n",
    "\n",
    "Details about Sleep Disorder Column:\n",
    "\n",
    "None: The individual does not exhibit any specific sleep disorder.\n",
    "\n",
    "Insomnia: The individual experiences difficulty falling asleep or staying asleep, leading to inadequate or poor-quality sleep.\n",
    "\n",
    "Sleep Apnea: The individual suffers from pauses in breathing during sleep, resulting in disrupted sleep patterns and potential health risks."
   ]
  },
  {
   "cell_type": "code",
   "execution_count": 4,
   "id": "4bd0dc10-5736-42e0-bfe6-886615002bb8",
   "metadata": {},
   "outputs": [
    {
     "data": {
      "text/html": [
       "<div>\n",
       "<style scoped>\n",
       "    .dataframe tbody tr th:only-of-type {\n",
       "        vertical-align: middle;\n",
       "    }\n",
       "\n",
       "    .dataframe tbody tr th {\n",
       "        vertical-align: top;\n",
       "    }\n",
       "\n",
       "    .dataframe thead th {\n",
       "        text-align: right;\n",
       "    }\n",
       "</style>\n",
       "<table border=\"1\" class=\"dataframe\">\n",
       "  <thead>\n",
       "    <tr style=\"text-align: right;\">\n",
       "      <th></th>\n",
       "      <th>Person ID</th>\n",
       "      <th>Gender</th>\n",
       "      <th>Age</th>\n",
       "      <th>Occupation</th>\n",
       "      <th>Sleep Duration</th>\n",
       "      <th>Quality of Sleep</th>\n",
       "      <th>Physical Activity Level</th>\n",
       "      <th>Stress Level</th>\n",
       "      <th>BMI Category</th>\n",
       "      <th>Blood Pressure</th>\n",
       "      <th>Heart Rate</th>\n",
       "      <th>Daily Steps</th>\n",
       "      <th>Sleep Disorder</th>\n",
       "    </tr>\n",
       "  </thead>\n",
       "  <tbody>\n",
       "    <tr>\n",
       "      <th>0</th>\n",
       "      <td>1</td>\n",
       "      <td>Male</td>\n",
       "      <td>27</td>\n",
       "      <td>Software Engineer</td>\n",
       "      <td>6.1</td>\n",
       "      <td>6</td>\n",
       "      <td>42</td>\n",
       "      <td>6</td>\n",
       "      <td>Overweight</td>\n",
       "      <td>126/83</td>\n",
       "      <td>77</td>\n",
       "      <td>4200</td>\n",
       "      <td>NaN</td>\n",
       "    </tr>\n",
       "    <tr>\n",
       "      <th>1</th>\n",
       "      <td>2</td>\n",
       "      <td>Male</td>\n",
       "      <td>28</td>\n",
       "      <td>Doctor</td>\n",
       "      <td>6.2</td>\n",
       "      <td>6</td>\n",
       "      <td>60</td>\n",
       "      <td>8</td>\n",
       "      <td>Normal</td>\n",
       "      <td>125/80</td>\n",
       "      <td>75</td>\n",
       "      <td>10000</td>\n",
       "      <td>NaN</td>\n",
       "    </tr>\n",
       "    <tr>\n",
       "      <th>2</th>\n",
       "      <td>3</td>\n",
       "      <td>Male</td>\n",
       "      <td>28</td>\n",
       "      <td>Doctor</td>\n",
       "      <td>6.2</td>\n",
       "      <td>6</td>\n",
       "      <td>60</td>\n",
       "      <td>8</td>\n",
       "      <td>Normal</td>\n",
       "      <td>125/80</td>\n",
       "      <td>75</td>\n",
       "      <td>10000</td>\n",
       "      <td>NaN</td>\n",
       "    </tr>\n",
       "    <tr>\n",
       "      <th>3</th>\n",
       "      <td>4</td>\n",
       "      <td>Male</td>\n",
       "      <td>28</td>\n",
       "      <td>Sales Representative</td>\n",
       "      <td>5.9</td>\n",
       "      <td>4</td>\n",
       "      <td>30</td>\n",
       "      <td>8</td>\n",
       "      <td>Obese</td>\n",
       "      <td>140/90</td>\n",
       "      <td>85</td>\n",
       "      <td>3000</td>\n",
       "      <td>Sleep Apnea</td>\n",
       "    </tr>\n",
       "    <tr>\n",
       "      <th>4</th>\n",
       "      <td>5</td>\n",
       "      <td>Male</td>\n",
       "      <td>28</td>\n",
       "      <td>Sales Representative</td>\n",
       "      <td>5.9</td>\n",
       "      <td>4</td>\n",
       "      <td>30</td>\n",
       "      <td>8</td>\n",
       "      <td>Obese</td>\n",
       "      <td>140/90</td>\n",
       "      <td>85</td>\n",
       "      <td>3000</td>\n",
       "      <td>Sleep Apnea</td>\n",
       "    </tr>\n",
       "  </tbody>\n",
       "</table>\n",
       "</div>"
      ],
      "text/plain": [
       "   Person ID Gender  Age            Occupation  Sleep Duration  \\\n",
       "0          1   Male   27     Software Engineer             6.1   \n",
       "1          2   Male   28                Doctor             6.2   \n",
       "2          3   Male   28                Doctor             6.2   \n",
       "3          4   Male   28  Sales Representative             5.9   \n",
       "4          5   Male   28  Sales Representative             5.9   \n",
       "\n",
       "   Quality of Sleep  Physical Activity Level  Stress Level BMI Category  \\\n",
       "0                 6                       42             6   Overweight   \n",
       "1                 6                       60             8       Normal   \n",
       "2                 6                       60             8       Normal   \n",
       "3                 4                       30             8        Obese   \n",
       "4                 4                       30             8        Obese   \n",
       "\n",
       "  Blood Pressure  Heart Rate  Daily Steps Sleep Disorder  \n",
       "0         126/83          77         4200            NaN  \n",
       "1         125/80          75        10000            NaN  \n",
       "2         125/80          75        10000            NaN  \n",
       "3         140/90          85         3000    Sleep Apnea  \n",
       "4         140/90          85         3000    Sleep Apnea  "
      ]
     },
     "execution_count": 4,
     "metadata": {},
     "output_type": "execute_result"
    }
   ],
   "source": [
    "df = data.copy()\n",
    "df.head()"
   ]
  },
  {
   "cell_type": "code",
   "execution_count": 5,
   "id": "ac3aa616-e527-4735-9fad-93c01b66561f",
   "metadata": {},
   "outputs": [
    {
     "data": {
      "text/plain": [
       "Occupation\n",
       "Accountant    36\n",
       "Doctor         2\n",
       "Engineer      32\n",
       "Lawyer         2\n",
       "Manager        1\n",
       "Nurse         73\n",
       "Scientist      4\n",
       "Teacher       35\n",
       "dtype: int64"
      ]
     },
     "execution_count": 5,
     "metadata": {},
     "output_type": "execute_result"
    }
   ],
   "source": [
    "df[df['Gender'] == 'Female'].groupby('Occupation').size()"
   ]
  },
  {
   "cell_type": "code",
   "execution_count": 6,
   "id": "0c01a14e-1513-45d8-a1f4-3967b8137f90",
   "metadata": {},
   "outputs": [
    {
     "name": "stdout",
     "output_type": "stream",
     "text": [
      "<class 'pandas.core.frame.DataFrame'>\n",
      "RangeIndex: 374 entries, 0 to 373\n",
      "Data columns (total 13 columns):\n",
      " #   Column                   Non-Null Count  Dtype  \n",
      "---  ------                   --------------  -----  \n",
      " 0   Person ID                374 non-null    int64  \n",
      " 1   Gender                   374 non-null    object \n",
      " 2   Age                      374 non-null    int64  \n",
      " 3   Occupation               374 non-null    object \n",
      " 4   Sleep Duration           374 non-null    float64\n",
      " 5   Quality of Sleep         374 non-null    int64  \n",
      " 6   Physical Activity Level  374 non-null    int64  \n",
      " 7   Stress Level             374 non-null    int64  \n",
      " 8   BMI Category             374 non-null    object \n",
      " 9   Blood Pressure           374 non-null    object \n",
      " 10  Heart Rate               374 non-null    int64  \n",
      " 11  Daily Steps              374 non-null    int64  \n",
      " 12  Sleep Disorder           155 non-null    object \n",
      "dtypes: float64(1), int64(7), object(5)\n",
      "memory usage: 38.1+ KB\n"
     ]
    }
   ],
   "source": [
    "df.info()"
   ]
  },
  {
   "cell_type": "code",
   "execution_count": 7,
   "id": "47e7c32e-7968-4b12-9b1e-c04002ab7883",
   "metadata": {},
   "outputs": [
    {
     "data": {
      "text/html": [
       "<div>\n",
       "<style scoped>\n",
       "    .dataframe tbody tr th:only-of-type {\n",
       "        vertical-align: middle;\n",
       "    }\n",
       "\n",
       "    .dataframe tbody tr th {\n",
       "        vertical-align: top;\n",
       "    }\n",
       "\n",
       "    .dataframe thead th {\n",
       "        text-align: right;\n",
       "    }\n",
       "</style>\n",
       "<table border=\"1\" class=\"dataframe\">\n",
       "  <thead>\n",
       "    <tr style=\"text-align: right;\">\n",
       "      <th></th>\n",
       "      <th>Person ID</th>\n",
       "      <th>Age</th>\n",
       "      <th>Sleep Duration</th>\n",
       "      <th>Quality of Sleep</th>\n",
       "      <th>Physical Activity Level</th>\n",
       "      <th>Stress Level</th>\n",
       "      <th>Heart Rate</th>\n",
       "      <th>Daily Steps</th>\n",
       "    </tr>\n",
       "  </thead>\n",
       "  <tbody>\n",
       "    <tr>\n",
       "      <th>count</th>\n",
       "      <td>374.000000</td>\n",
       "      <td>374.000000</td>\n",
       "      <td>374.000000</td>\n",
       "      <td>374.000000</td>\n",
       "      <td>374.000000</td>\n",
       "      <td>374.000000</td>\n",
       "      <td>374.000000</td>\n",
       "      <td>374.000000</td>\n",
       "    </tr>\n",
       "    <tr>\n",
       "      <th>mean</th>\n",
       "      <td>187.500000</td>\n",
       "      <td>42.184492</td>\n",
       "      <td>7.132086</td>\n",
       "      <td>7.312834</td>\n",
       "      <td>59.171123</td>\n",
       "      <td>5.385027</td>\n",
       "      <td>70.165775</td>\n",
       "      <td>6816.844920</td>\n",
       "    </tr>\n",
       "    <tr>\n",
       "      <th>std</th>\n",
       "      <td>108.108742</td>\n",
       "      <td>8.673133</td>\n",
       "      <td>0.795657</td>\n",
       "      <td>1.196956</td>\n",
       "      <td>20.830804</td>\n",
       "      <td>1.774526</td>\n",
       "      <td>4.135676</td>\n",
       "      <td>1617.915679</td>\n",
       "    </tr>\n",
       "    <tr>\n",
       "      <th>min</th>\n",
       "      <td>1.000000</td>\n",
       "      <td>27.000000</td>\n",
       "      <td>5.800000</td>\n",
       "      <td>4.000000</td>\n",
       "      <td>30.000000</td>\n",
       "      <td>3.000000</td>\n",
       "      <td>65.000000</td>\n",
       "      <td>3000.000000</td>\n",
       "    </tr>\n",
       "    <tr>\n",
       "      <th>25%</th>\n",
       "      <td>94.250000</td>\n",
       "      <td>35.250000</td>\n",
       "      <td>6.400000</td>\n",
       "      <td>6.000000</td>\n",
       "      <td>45.000000</td>\n",
       "      <td>4.000000</td>\n",
       "      <td>68.000000</td>\n",
       "      <td>5600.000000</td>\n",
       "    </tr>\n",
       "    <tr>\n",
       "      <th>50%</th>\n",
       "      <td>187.500000</td>\n",
       "      <td>43.000000</td>\n",
       "      <td>7.200000</td>\n",
       "      <td>7.000000</td>\n",
       "      <td>60.000000</td>\n",
       "      <td>5.000000</td>\n",
       "      <td>70.000000</td>\n",
       "      <td>7000.000000</td>\n",
       "    </tr>\n",
       "    <tr>\n",
       "      <th>75%</th>\n",
       "      <td>280.750000</td>\n",
       "      <td>50.000000</td>\n",
       "      <td>7.800000</td>\n",
       "      <td>8.000000</td>\n",
       "      <td>75.000000</td>\n",
       "      <td>7.000000</td>\n",
       "      <td>72.000000</td>\n",
       "      <td>8000.000000</td>\n",
       "    </tr>\n",
       "    <tr>\n",
       "      <th>max</th>\n",
       "      <td>374.000000</td>\n",
       "      <td>59.000000</td>\n",
       "      <td>8.500000</td>\n",
       "      <td>9.000000</td>\n",
       "      <td>90.000000</td>\n",
       "      <td>8.000000</td>\n",
       "      <td>86.000000</td>\n",
       "      <td>10000.000000</td>\n",
       "    </tr>\n",
       "  </tbody>\n",
       "</table>\n",
       "</div>"
      ],
      "text/plain": [
       "        Person ID         Age  Sleep Duration  Quality of Sleep  \\\n",
       "count  374.000000  374.000000      374.000000        374.000000   \n",
       "mean   187.500000   42.184492        7.132086          7.312834   \n",
       "std    108.108742    8.673133        0.795657          1.196956   \n",
       "min      1.000000   27.000000        5.800000          4.000000   \n",
       "25%     94.250000   35.250000        6.400000          6.000000   \n",
       "50%    187.500000   43.000000        7.200000          7.000000   \n",
       "75%    280.750000   50.000000        7.800000          8.000000   \n",
       "max    374.000000   59.000000        8.500000          9.000000   \n",
       "\n",
       "       Physical Activity Level  Stress Level  Heart Rate   Daily Steps  \n",
       "count               374.000000    374.000000  374.000000    374.000000  \n",
       "mean                 59.171123      5.385027   70.165775   6816.844920  \n",
       "std                  20.830804      1.774526    4.135676   1617.915679  \n",
       "min                  30.000000      3.000000   65.000000   3000.000000  \n",
       "25%                  45.000000      4.000000   68.000000   5600.000000  \n",
       "50%                  60.000000      5.000000   70.000000   7000.000000  \n",
       "75%                  75.000000      7.000000   72.000000   8000.000000  \n",
       "max                  90.000000      8.000000   86.000000  10000.000000  "
      ]
     },
     "execution_count": 7,
     "metadata": {},
     "output_type": "execute_result"
    }
   ],
   "source": [
    "df.describe()"
   ]
  },
  {
   "cell_type": "code",
   "execution_count": 74,
   "id": "21e21b8a-5cba-40b5-8f1f-08f1f441eb57",
   "metadata": {},
   "outputs": [
    {
     "data": {
      "text/plain": [
       "nan"
      ]
     },
     "execution_count": 74,
     "metadata": {},
     "output_type": "execute_result"
    }
   ],
   "source": [
    "df['Sleep Disorder'][0]"
   ]
  },
  {
   "cell_type": "code",
   "execution_count": 8,
   "id": "5dab20e6-acdc-4cae-9722-e8c7fb49d99a",
   "metadata": {},
   "outputs": [
    {
     "data": {
      "text/plain": [
       "array(['Software Engineer', 'Doctor', 'Sales Representative', 'Teacher',\n",
       "       'Nurse', 'Engineer', 'Accountant', 'Scientist', 'Lawyer',\n",
       "       'Salesperson', 'Manager'], dtype=object)"
      ]
     },
     "execution_count": 8,
     "metadata": {},
     "output_type": "execute_result"
    }
   ],
   "source": [
    "df['Occupation'].unique()"
   ]
  },
  {
   "cell_type": "raw",
   "id": "17a3ca98-fb81-4520-9969-8f39bec6df6d",
   "metadata": {},
   "source": [
    "Univariate Analysis:\n",
    "Gender Column:\n",
    "Male are relatively higher than female."
   ]
  },
  {
   "cell_type": "code",
   "execution_count": 9,
   "id": "851ade6b-f4c3-4799-baca-ca1d6c0783a5",
   "metadata": {},
   "outputs": [
    {
     "data": {
      "text/html": [
       "<div>\n",
       "<style scoped>\n",
       "    .dataframe tbody tr th:only-of-type {\n",
       "        vertical-align: middle;\n",
       "    }\n",
       "\n",
       "    .dataframe tbody tr th {\n",
       "        vertical-align: top;\n",
       "    }\n",
       "\n",
       "    .dataframe thead th {\n",
       "        text-align: right;\n",
       "    }\n",
       "</style>\n",
       "<table border=\"1\" class=\"dataframe\">\n",
       "  <thead>\n",
       "    <tr style=\"text-align: right;\">\n",
       "      <th></th>\n",
       "      <th>index</th>\n",
       "      <th>Gender</th>\n",
       "    </tr>\n",
       "  </thead>\n",
       "  <tbody>\n",
       "    <tr>\n",
       "      <th>0</th>\n",
       "      <td>count</td>\n",
       "      <td>374</td>\n",
       "    </tr>\n",
       "    <tr>\n",
       "      <th>1</th>\n",
       "      <td>unique</td>\n",
       "      <td>2</td>\n",
       "    </tr>\n",
       "    <tr>\n",
       "      <th>2</th>\n",
       "      <td>top</td>\n",
       "      <td>Male</td>\n",
       "    </tr>\n",
       "    <tr>\n",
       "      <th>3</th>\n",
       "      <td>freq</td>\n",
       "      <td>189</td>\n",
       "    </tr>\n",
       "  </tbody>\n",
       "</table>\n",
       "</div>"
      ],
      "text/plain": [
       "    index Gender\n",
       "0   count    374\n",
       "1  unique      2\n",
       "2     top   Male\n",
       "3    freq    189"
      ]
     },
     "execution_count": 9,
     "metadata": {},
     "output_type": "execute_result"
    }
   ],
   "source": [
    "# univariate analysis:\n",
    "df['Gender'].describe().reset_index()"
   ]
  },
  {
   "cell_type": "code",
   "execution_count": 10,
   "id": "13dc6c0c-0293-4269-8fbf-f7b537e49f87",
   "metadata": {},
   "outputs": [
    {
     "data": {
      "text/plain": [
       "0"
      ]
     },
     "execution_count": 10,
     "metadata": {},
     "output_type": "execute_result"
    }
   ],
   "source": [
    "df['Gender'].isnull().sum()"
   ]
  },
  {
   "cell_type": "code",
   "execution_count": 11,
   "id": "2b659a48-0ae5-48bc-8fa1-7068a6275029",
   "metadata": {},
   "outputs": [
    {
     "data": {
      "text/plain": [
       "<Axes: ylabel='count'>"
      ]
     },
     "execution_count": 11,
     "metadata": {},
     "output_type": "execute_result"
    },
    {
     "data": {
      "image/png": "[encoded data removed]",
      "text/plain": [
       "<Figure size 640x480 with 1 Axes>"
      ]
     },
     "metadata": {},
     "output_type": "display_data"
    }
   ],
   "source": [
    "df['Gender'].value_counts().plot(kind='pie', autopct='%0.1f%%')"
   ]
  },
  {
   "cell_type": "raw",
   "id": "d02ef9c1-ed33-45dd-abb6-b7ecbfa4b4c6",
   "metadata": {},
   "source": [
    "Age Column:\n",
    "No outliers are present.\n",
    "Very less skewed."
   ]
  },
  {
   "cell_type": "code",
   "execution_count": 12,
   "id": "9e7d0286-10a4-4a33-830a-8507d2fc4cd8",
   "metadata": {},
   "outputs": [
    {
     "data": {
      "text/plain": [
       "<Axes: xlabel='Occupation'>"
      ]
     },
     "execution_count": 12,
     "metadata": {},
     "output_type": "execute_result"
    },
    {
     "data": {
      "image/png": "[encoded data removed]",
      "text/plain": [
       "<Figure size 640x480 with 1 Axes>"
      ]
     },
     "metadata": {},
     "output_type": "display_data"
    }
   ],
   "source": [
    "df.groupby('Occupation')['Age'].mean().plot(kind='bar')"
   ]
  },
  {
   "cell_type": "code",
   "execution_count": 13,
   "id": "6e91ba1b-bf05-4643-91d1-7ce39a08fffe",
   "metadata": {},
   "outputs": [
    {
     "data": {
      "text/plain": [
       "Age\n",
       "43    34\n",
       "44    30\n",
       "37    20\n",
       "38    20\n",
       "50    20\n",
       "31    18\n",
       "32    17\n",
       "53    17\n",
       "59    16\n",
       "39    15\n",
       "45    14\n",
       "33    13\n",
       "30    13\n",
       "29    13\n",
       "41    12\n",
       "36    12\n",
       "35    12\n",
       "49    11\n",
       "57     9\n",
       "52     9\n",
       "42     9\n",
       "51     8\n",
       "54     7\n",
       "58     6\n",
       "28     5\n",
       "40     4\n",
       "48     3\n",
       "55     2\n",
       "56     2\n",
       "34     2\n",
       "27     1\n",
       "Name: count, dtype: int64"
      ]
     },
     "execution_count": 13,
     "metadata": {},
     "output_type": "execute_result"
    }
   ],
   "source": [
    "df['Age'].value_counts().sort_values(ascending=False)"
   ]
  },
  {
   "cell_type": "code",
   "execution_count": 14,
   "id": "8c7d8ec0-f060-4035-848e-e302ca2db6d1",
   "metadata": {},
   "outputs": [
    {
     "data": {
      "text/plain": [
       "<Axes: >"
      ]
     },
     "execution_count": 14,
     "metadata": {},
     "output_type": "execute_result"
    },
    {
     "data": {
      "image/png": "[encoded data removed]",
      "text/plain": [
       "<Figure size 640x480 with 1 Axes>"
      ]
     },
     "metadata": {},
     "output_type": "display_data"
    }
   ],
   "source": [
    "df['Age'].plot(kind='box')"
   ]
  },
  {
   "cell_type": "code",
   "execution_count": 15,
   "id": "86512b79-7ed8-4e25-a54c-0559c84fd8f4",
   "metadata": {},
   "outputs": [
    {
     "data": {
      "text/plain": [
       "<Axes: ylabel='Density'>"
      ]
     },
     "execution_count": 15,
     "metadata": {},
     "output_type": "execute_result"
    },
    {
     "data": {
      "image/png": "[encoded data removed]",
      "text/plain": [
       "<Figure size 640x480 with 1 Axes>"
      ]
     },
     "metadata": {},
     "output_type": "display_data"
    }
   ],
   "source": [
    "df['Age'].plot(kind='kde')"
   ]
  },
  {
   "cell_type": "code",
   "execution_count": 16,
   "id": "a55b7659-6bc1-4903-a7b5-9809af52a413",
   "metadata": {},
   "outputs": [
    {
     "data": {
      "text/plain": [
       "0.2572221422742844"
      ]
     },
     "execution_count": 16,
     "metadata": {},
     "output_type": "execute_result"
    }
   ],
   "source": [
    "df['Age'].skew()"
   ]
  },
  {
   "cell_type": "raw",
   "id": "6a8f46d3-9609-4f24-86e6-b3650080a64e",
   "metadata": {},
   "source": [
    "Occupation Column:\n",
    "Mostly Nurse are present."
   ]
  },
  {
   "cell_type": "code",
   "execution_count": 17,
   "id": "d3010ca4-0c01-4571-8dda-32c7b1259c0b",
   "metadata": {},
   "outputs": [
    {
     "data": {
      "text/plain": [
       "<Axes: xlabel='Occupation'>"
      ]
     },
     "execution_count": 17,
     "metadata": {},
     "output_type": "execute_result"
    },
    {
     "data": {
      "image/png": "[encoded data removed]",
      "text/plain": [
       "<Figure size 640x480 with 1 Axes>"
      ]
     },
     "metadata": {},
     "output_type": "display_data"
    }
   ],
   "source": [
    "df['Occupation'].value_counts().plot(kind='bar')"
   ]
  },
  {
   "cell_type": "code",
   "execution_count": 18,
   "id": "aaae3153-06c1-4245-9699-5e56d5cafea1",
   "metadata": {},
   "outputs": [
    {
     "data": {
      "text/plain": [
       "0"
      ]
     },
     "execution_count": 18,
     "metadata": {},
     "output_type": "execute_result"
    }
   ],
   "source": [
    "df['Occupation'].isnull().sum()"
   ]
  },
  {
   "cell_type": "raw",
   "id": "4d307b69-2673-43c0-9bf2-388075fc19fc",
   "metadata": {},
   "source": [
    "Sleep Duration:\n",
    "No outliers are present.\n",
    "Less Skewed."
   ]
  },
  {
   "cell_type": "code",
   "execution_count": 19,
   "id": "aa5581e4-7093-43b4-aef9-2db72ba7014c",
   "metadata": {},
   "outputs": [
    {
     "data": {
      "text/plain": [
       "count    374.000000\n",
       "mean       7.132086\n",
       "std        0.795657\n",
       "min        5.800000\n",
       "25%        6.400000\n",
       "50%        7.200000\n",
       "75%        7.800000\n",
       "max        8.500000\n",
       "Name: Sleep Duration, dtype: float64"
      ]
     },
     "execution_count": 19,
     "metadata": {},
     "output_type": "execute_result"
    }
   ],
   "source": [
    "df['Sleep Duration'].describe()"
   ]
  },
  {
   "cell_type": "code",
   "execution_count": 20,
   "id": "51ae1bb7-d812-4c4c-9283-8f37db1335f2",
   "metadata": {},
   "outputs": [
    {
     "data": {
      "text/plain": [
       "<Axes: >"
      ]
     },
     "execution_count": 20,
     "metadata": {},
     "output_type": "execute_result"
    },
    {
     "data": {
      "image/png": "[encoded data removed]",
      "text/plain": [
       "<Figure size 640x480 with 1 Axes>"
      ]
     },
     "metadata": {},
     "output_type": "display_data"
    }
   ],
   "source": [
    "df['Sleep Duration'].plot(kind='box')"
   ]
  },
  {
   "cell_type": "code",
   "execution_count": 21,
   "id": "9f1d61b0-56f2-4bec-9c5c-77f992024fde",
   "metadata": {},
   "outputs": [
    {
     "data": {
      "text/plain": [
       "<Axes: ylabel='Density'>"
      ]
     },
     "execution_count": 21,
     "metadata": {},
     "output_type": "execute_result"
    },
    {
     "data": {
      "image/png": "[encoded data removed]",
      "text/plain": [
       "<Figure size 640x480 with 1 Axes>"
      ]
     },
     "metadata": {},
     "output_type": "display_data"
    }
   ],
   "source": [
    "df['Sleep Duration'].plot(kind='kde')"
   ]
  },
  {
   "cell_type": "code",
   "execution_count": 22,
   "id": "e0d6a896-a22d-480e-ac41-853dd35cd357",
   "metadata": {},
   "outputs": [
    {
     "data": {
      "text/plain": [
       "0.037554389846484834"
      ]
     },
     "execution_count": 22,
     "metadata": {},
     "output_type": "execute_result"
    }
   ],
   "source": [
    "df['Sleep Duration'].skew()"
   ]
  },
  {
   "cell_type": "code",
   "execution_count": 23,
   "id": "2bc0a929-5bfe-46a0-b34b-6b6da5bf3708",
   "metadata": {},
   "outputs": [
    {
     "data": {
      "text/plain": [
       "count    374.000000\n",
       "mean       7.312834\n",
       "std        1.196956\n",
       "min        4.000000\n",
       "25%        6.000000\n",
       "50%        7.000000\n",
       "75%        8.000000\n",
       "max        9.000000\n",
       "Name: Quality of Sleep, dtype: float64"
      ]
     },
     "execution_count": 23,
     "metadata": {},
     "output_type": "execute_result"
    }
   ],
   "source": [
    "df['Quality of Sleep'].describe()"
   ]
  },
  {
   "cell_type": "code",
   "execution_count": 24,
   "id": "dd5b4cc3-6130-4f47-9856-52d59b9f6d93",
   "metadata": {},
   "outputs": [
    {
     "data": {
      "text/plain": [
       "<Axes: >"
      ]
     },
     "execution_count": 24,
     "metadata": {},
     "output_type": "execute_result"
    },
    {
     "data": {
      "image/png": "[encoded data removed]",
      "text/plain": [
       "<Figure size 640x480 with 1 Axes>"
      ]
     },
     "metadata": {},
     "output_type": "display_data"
    }
   ],
   "source": [
    "df['Quality of Sleep'].plot(kind='box')"
   ]
  },
  {
   "cell_type": "code",
   "execution_count": 25,
   "id": "65aaa833-d24b-4c2a-ba73-09208b6ec3d0",
   "metadata": {},
   "outputs": [
    {
     "data": {
      "text/plain": [
       "<Axes: ylabel='Density'>"
      ]
     },
     "execution_count": 25,
     "metadata": {},
     "output_type": "execute_result"
    },
    {
     "data": {
      "image/png": "[encoded data removed]",
      "text/plain": [
       "<Figure size 640x480 with 1 Axes>"
      ]
     },
     "metadata": {},
     "output_type": "display_data"
    }
   ],
   "source": [
    "df['Quality of Sleep'].plot(kind='kde')"
   ]
  },
  {
   "cell_type": "code",
   "execution_count": 26,
   "id": "fb123d4d-836a-4e9f-bffb-fb9d7426e945",
   "metadata": {},
   "outputs": [
    {
     "data": {
      "text/plain": [
       "-0.20744763173836073"
      ]
     },
     "execution_count": 26,
     "metadata": {},
     "output_type": "execute_result"
    }
   ],
   "source": [
    "df['Quality of Sleep'].skew()"
   ]
  },
  {
   "cell_type": "code",
   "execution_count": 27,
   "id": "59476ed1-3a5c-4eb2-9dab-fea9ecace266",
   "metadata": {},
   "outputs": [
    {
     "data": {
      "text/plain": [
       "count    374.000000\n",
       "mean      59.171123\n",
       "std       20.830804\n",
       "min       30.000000\n",
       "25%       45.000000\n",
       "50%       60.000000\n",
       "75%       75.000000\n",
       "max       90.000000\n",
       "Name: Physical Activity Level, dtype: float64"
      ]
     },
     "execution_count": 27,
     "metadata": {},
     "output_type": "execute_result"
    }
   ],
   "source": [
    "df['Physical Activity Level'].describe()"
   ]
  },
  {
   "cell_type": "code",
   "execution_count": 28,
   "id": "028a43f8-8bf5-4150-8406-ef407ba9aa2e",
   "metadata": {},
   "outputs": [
    {
     "data": {
      "text/plain": [
       "0.07448690272010197"
      ]
     },
     "execution_count": 28,
     "metadata": {},
     "output_type": "execute_result"
    }
   ],
   "source": [
    "df['Physical Activity Level'].skew()"
   ]
  },
  {
   "cell_type": "code",
   "execution_count": 29,
   "id": "fa59918f-a039-4f0c-8137-ddb04fe814cf",
   "metadata": {},
   "outputs": [
    {
     "data": {
      "text/plain": [
       "<Axes: ylabel='Density'>"
      ]
     },
     "execution_count": 29,
     "metadata": {},
     "output_type": "execute_result"
    },
    {
     "data": {
      "image/png": "[encoded data removed]",
      "text/plain": [
       "<Figure size 640x480 with 1 Axes>"
      ]
     },
     "metadata": {},
     "output_type": "display_data"
    }
   ],
   "source": [
    "df['Physical Activity Level'].plot(kind='kde')"
   ]
  },
  {
   "cell_type": "code",
   "execution_count": 30,
   "id": "aabe2c3e-2e38-45bc-b3de-c0875926622a",
   "metadata": {},
   "outputs": [
    {
     "data": {
      "text/plain": [
       "<Axes: >"
      ]
     },
     "execution_count": 30,
     "metadata": {},
     "output_type": "execute_result"
    },
    {
     "data": {
      "image/png": "[encoded data removed]",
      "text/plain": [
       "<Figure size 640x480 with 1 Axes>"
      ]
     },
     "metadata": {},
     "output_type": "display_data"
    }
   ],
   "source": [
    "df['Physical Activity Level'].plot(kind='box')"
   ]
  },
  {
   "cell_type": "code",
   "execution_count": 31,
   "id": "07a7f6c5-1c6a-4802-ad3b-c0dd4e98c401",
   "metadata": {},
   "outputs": [
    {
     "data": {
      "text/plain": [
       "count    374.000000\n",
       "mean       5.385027\n",
       "std        1.774526\n",
       "min        3.000000\n",
       "25%        4.000000\n",
       "50%        5.000000\n",
       "75%        7.000000\n",
       "max        8.000000\n",
       "Name: Stress Level, dtype: float64"
      ]
     },
     "execution_count": 31,
     "metadata": {},
     "output_type": "execute_result"
    }
   ],
   "source": [
    "df['Stress Level'].describe()"
   ]
  },
  {
   "cell_type": "code",
   "execution_count": 32,
   "id": "aef54105-77e1-4727-bd88-716c1a97de72",
   "metadata": {},
   "outputs": [
    {
     "data": {
      "text/plain": [
       "<Axes: ylabel='Density'>"
      ]
     },
     "execution_count": 32,
     "metadata": {},
     "output_type": "execute_result"
    },
    {
     "data": {
      "image/png": "[encoded data removed]",
      "text/plain": [
       "<Figure size 640x480 with 1 Axes>"
      ]
     },
     "metadata": {},
     "output_type": "display_data"
    }
   ],
   "source": [
    "df['Stress Level'].plot(kind='kde')"
   ]
  },
  {
   "cell_type": "code",
   "execution_count": 33,
   "id": "a190edd2-1f83-4065-8374-b553300c932b",
   "metadata": {},
   "outputs": [
    {
     "data": {
      "text/plain": [
       "0.15432958161578225"
      ]
     },
     "execution_count": 33,
     "metadata": {},
     "output_type": "execute_result"
    }
   ],
   "source": [
    "df['Stress Level'].skew()"
   ]
  },
  {
   "cell_type": "code",
   "execution_count": 34,
   "id": "de1324f0-15df-4d77-9ac5-b0e8e8d5a65f",
   "metadata": {},
   "outputs": [
    {
     "data": {
      "text/plain": [
       "<Axes: xlabel='BMI Category'>"
      ]
     },
     "execution_count": 34,
     "metadata": {},
     "output_type": "execute_result"
    },
    {
     "data": {
      "image/png": "[encoded data removed]",
      "text/plain": [
       "<Figure size 640x480 with 1 Axes>"
      ]
     },
     "metadata": {},
     "output_type": "display_data"
    }
   ],
   "source": [
    "df['BMI Category'].value_counts().plot(kind='bar')"
   ]
  },
  {
   "cell_type": "code",
   "execution_count": 35,
   "id": "9b749900-1b18-44c1-8cfb-a989b6e4f4be",
   "metadata": {},
   "outputs": [
    {
     "data": {
      "text/plain": [
       "<Axes: xlabel='Blood Pressure'>"
      ]
     },
     "execution_count": 35,
     "metadata": {},
     "output_type": "execute_result"
    },
    {
     "data": {
      "image/png": "[encoded data removed]",
      "text/plain": [
       "<Figure size 640x480 with 1 Axes>"
      ]
     },
     "metadata": {},
     "output_type": "display_data"
    }
   ],
   "source": [
    "df['Blood Pressure'].value_counts().plot(kind='bar')"
   ]
  },
  {
   "cell_type": "code",
   "execution_count": 36,
   "id": "2707d681-347a-42fc-bc66-52c060c267f2",
   "metadata": {},
   "outputs": [
    {
     "data": {
      "text/plain": [
       "count        374\n",
       "unique        25\n",
       "top       130/85\n",
       "freq          99\n",
       "Name: Blood Pressure, dtype: object"
      ]
     },
     "execution_count": 36,
     "metadata": {},
     "output_type": "execute_result"
    }
   ],
   "source": [
    "df['Blood Pressure'].describe()"
   ]
  },
  {
   "cell_type": "code",
   "execution_count": 37,
   "id": "10fb3864-b60a-4c51-8680-dd9c6eaa8b80",
   "metadata": {},
   "outputs": [
    {
     "data": {
      "text/plain": [
       "count    374.000000\n",
       "mean      70.165775\n",
       "std        4.135676\n",
       "min       65.000000\n",
       "25%       68.000000\n",
       "50%       70.000000\n",
       "75%       72.000000\n",
       "max       86.000000\n",
       "Name: Heart Rate, dtype: float64"
      ]
     },
     "execution_count": 37,
     "metadata": {},
     "output_type": "execute_result"
    }
   ],
   "source": [
    "df['Heart Rate'].describe()"
   ]
  },
  {
   "cell_type": "code",
   "execution_count": 38,
   "id": "ccba88bb-52ee-4eb9-a1de-e9324b3d5883",
   "metadata": {},
   "outputs": [
    {
     "data": {
      "text/plain": [
       "<Axes: ylabel='Density'>"
      ]
     },
     "execution_count": 38,
     "metadata": {},
     "output_type": "execute_result"
    },
    {
     "data": {
      "image/png": "[encoded data removed]",
      "text/plain": [
       "<Figure size 640x480 with 1 Axes>"
      ]
     },
     "metadata": {},
     "output_type": "display_data"
    }
   ],
   "source": [
    "df['Heart Rate'].plot(kind='kde')"
   ]
  },
  {
   "cell_type": "code",
   "execution_count": 39,
   "id": "8465ccf9-9ad3-4403-b701-4df6597728f8",
   "metadata": {},
   "outputs": [
    {
     "data": {
      "text/plain": [
       "1.2248235470533522"
      ]
     },
     "execution_count": 39,
     "metadata": {},
     "output_type": "execute_result"
    }
   ],
   "source": [
    "df['Heart Rate'].skew()"
   ]
  },
  {
   "cell_type": "code",
   "execution_count": 40,
   "id": "e3186822-8e9b-4354-ae24-4d4b67478c1f",
   "metadata": {},
   "outputs": [
    {
     "data": {
      "text/plain": [
       "count      374.000000\n",
       "mean      6816.844920\n",
       "std       1617.915679\n",
       "min       3000.000000\n",
       "25%       5600.000000\n",
       "50%       7000.000000\n",
       "75%       8000.000000\n",
       "max      10000.000000\n",
       "Name: Daily Steps, dtype: float64"
      ]
     },
     "execution_count": 40,
     "metadata": {},
     "output_type": "execute_result"
    }
   ],
   "source": [
    "df['Daily Steps'].describe()"
   ]
  },
  {
   "cell_type": "code",
   "execution_count": 41,
   "id": "7aa71c04-6c49-45ff-9366-2a7931abf3d0",
   "metadata": {},
   "outputs": [
    {
     "data": {
      "text/plain": [
       "<Axes: >"
      ]
     },
     "execution_count": 41,
     "metadata": {},
     "output_type": "execute_result"
    },
    {
     "data": {
      "image/png": "[encoded data removed]",
      "text/plain": [
       "<Figure size 640x480 with 1 Axes>"
      ]
     },
     "metadata": {},
     "output_type": "display_data"
    }
   ],
   "source": [
    "df['Daily Steps'].plot(kind='box')"
   ]
  },
  {
   "cell_type": "code",
   "execution_count": 42,
   "id": "9b451c75-6d5c-416d-abfd-690c277569fc",
   "metadata": {},
   "outputs": [
    {
     "data": {
      "text/plain": [
       "0.17827733092832274"
      ]
     },
     "execution_count": 42,
     "metadata": {},
     "output_type": "execute_result"
    }
   ],
   "source": [
    "df['Daily Steps'].skew()"
   ]
  },
  {
   "cell_type": "code",
   "execution_count": 43,
   "id": "17ab33dd-a433-4712-8b72-3252eb889eb5",
   "metadata": {},
   "outputs": [
    {
     "data": {
      "text/plain": [
       "<Axes: ylabel='Density'>"
      ]
     },
     "execution_count": 43,
     "metadata": {},
     "output_type": "execute_result"
    },
    {
     "data": {
      "image/png": "[encoded data removed]",
      "text/plain": [
       "<Figure size 640x480 with 1 Axes>"
      ]
     },
     "metadata": {},
     "output_type": "display_data"
    }
   ],
   "source": [
    "df['Daily Steps'].plot(kind='kde')"
   ]
  },
  {
   "cell_type": "code",
   "execution_count": 44,
   "id": "92f51e54-e4cf-4026-bdec-733c58f11e26",
   "metadata": {},
   "outputs": [
    {
     "data": {
      "text/plain": [
       "<Axes: xlabel='Sleep Disorder'>"
      ]
     },
     "execution_count": 44,
     "metadata": {},
     "output_type": "execute_result"
    },
    {
     "data": {
      "image/png": "[encoded data removed]",
      "text/plain": [
       "<Figure size 640x480 with 1 Axes>"
      ]
     },
     "metadata": {},
     "output_type": "display_data"
    }
   ],
   "source": [
    "df['Sleep Disorder'].value_counts().plot(kind='bar')"
   ]
  },
  {
   "cell_type": "code",
   "execution_count": 45,
   "id": "4b6f78ea-1eb0-4123-883f-c1b70e8e4e54",
   "metadata": {},
   "outputs": [
    {
     "data": {
      "text/plain": [
       "219"
      ]
     },
     "execution_count": 45,
     "metadata": {},
     "output_type": "execute_result"
    }
   ],
   "source": [
    "df['Sleep Disorder'].isnull().sum()"
   ]
  },
  {
   "cell_type": "raw",
   "id": "d496e99d-4c73-4ecd-a689-77bc8637ca68",
   "metadata": {},
   "source": [
    "Conclusions:\n",
    "on average female sleeps for 7.2hrs and male sleeps for 7hrs.\n",
    "females have more quality of sleep rather than males.\n",
    "males have higher stress level rather than females.\n",
    "sales representative is the job with most high stress level while engineers belongs to the category with minimum average stress level.\n",
    "Mostly nurses suffers from sleep apnea.\n",
    "Salesperson mostly suffers from Insomnia.\n",
    "Overweight people mostly suffers from insomnia and sleep apnea."
   ]
  },
  {
   "cell_type": "code",
   "execution_count": 46,
   "id": "571a368c-f178-4872-ac38-88e2ba173e51",
   "metadata": {},
   "outputs": [
    {
     "data": {
      "text/plain": [
       "<matplotlib.collections.PathCollection at 0x2275d7cefc0>"
      ]
     },
     "execution_count": 46,
     "metadata": {},
     "output_type": "execute_result"
    },
    {
     "data": {
      "image/png": "[encoded data removed]",
      "text/plain": [
       "<Figure size 640x480 with 1 Axes>"
      ]
     },
     "metadata": {},
     "output_type": "display_data"
    }
   ],
   "source": [
    "# bivariate analysis:\n",
    "plt.scatter(df['Sleep Duration'], df['Physical Activity Level'])"
   ]
  },
  {
   "cell_type": "code",
   "execution_count": 47,
   "id": "1184ebb6-5292-483f-9866-76b9809521ab",
   "metadata": {},
   "outputs": [
    {
     "data": {
      "text/plain": [
       "<matplotlib.collections.PathCollection at 0x2275d7fd460>"
      ]
     },
     "execution_count": 47,
     "metadata": {},
     "output_type": "execute_result"
    },
    {
     "data": {
      "image/png": "[encoded data removed]",
      "text/plain": [
       "<Figure size 640x480 with 1 Axes>"
      ]
     },
     "metadata": {},
     "output_type": "display_data"
    }
   ],
   "source": [
    "plt.scatter(df['Sleep Duration'], df['Quality of Sleep'])"
   ]
  },
  {
   "cell_type": "code",
   "execution_count": 48,
   "id": "b021e9ff-5cd9-44eb-b191-2ea0c8166a63",
   "metadata": {},
   "outputs": [
    {
     "data": {
      "text/plain": [
       "<Axes: xlabel='Gender'>"
      ]
     },
     "execution_count": 48,
     "metadata": {},
     "output_type": "execute_result"
    },
    {
     "data": {
      "image/png": "[encoded data removed]",
      "text/plain": [
       "<Figure size 640x480 with 1 Axes>"
      ]
     },
     "metadata": {},
     "output_type": "display_data"
    }
   ],
   "source": [
    "df.groupby('Gender')['Sleep Duration'].mean().plot(kind='bar')"
   ]
  },
  {
   "cell_type": "code",
   "execution_count": 49,
   "id": "163f41a3-16d1-4e88-ae7f-95e031031fc8",
   "metadata": {},
   "outputs": [
    {
     "data": {
      "text/plain": [
       "<Axes: xlabel='Gender'>"
      ]
     },
     "execution_count": 49,
     "metadata": {},
     "output_type": "execute_result"
    },
    {
     "data": {
      "image/png": "[encoded data removed]",
      "text/plain": [
       "<Figure size 640x480 with 1 Axes>"
      ]
     },
     "metadata": {},
     "output_type": "display_data"
    }
   ],
   "source": [
    "df.groupby('Gender')['Quality of Sleep'].mean().plot(kind='bar')"
   ]
  },
  {
   "cell_type": "code",
   "execution_count": 50,
   "id": "1e52e18f-6d29-442e-9885-90111d7d7904",
   "metadata": {},
   "outputs": [
    {
     "data": {
      "text/plain": [
       "<Axes: xlabel='Gender'>"
      ]
     },
     "execution_count": 50,
     "metadata": {},
     "output_type": "execute_result"
    },
    {
     "data": {
      "image/png": "[encoded data removed]",
      "text/plain": [
       "<Figure size 640x480 with 1 Axes>"
      ]
     },
     "metadata": {},
     "output_type": "display_data"
    }
   ],
   "source": [
    "df.groupby('Gender')['Stress Level'].mean().plot(kind='bar')"
   ]
  },
  {
   "cell_type": "code",
   "execution_count": 51,
   "id": "9ae4516e-9d35-426e-812a-68a3cb64f174",
   "metadata": {},
   "outputs": [
    {
     "data": {
      "text/plain": [
       "<Axes: xlabel='Occupation'>"
      ]
     },
     "execution_count": 51,
     "metadata": {},
     "output_type": "execute_result"
    },
    {
     "data": {
      "image/png": "[encoded data removed]",
      "text/plain": [
       "<Figure size 640x480 with 1 Axes>"
      ]
     },
     "metadata": {},
     "output_type": "display_data"
    }
   ],
   "source": [
    "df.groupby('Occupation')['Stress Level'].mean().sort_values(ascending=False).plot(kind='bar')"
   ]
  },
  {
   "cell_type": "code",
   "execution_count": 52,
   "id": "b8d031a2-7c9f-4d36-a560-8cd593af1f44",
   "metadata": {},
   "outputs": [
    {
     "data": {
      "text/plain": [
       "<Axes: xlabel='Age'>"
      ]
     },
     "execution_count": 52,
     "metadata": {},
     "output_type": "execute_result"
    },
    {
     "data": {
      "image/png": "[encoded data removed]",
      "text/plain": [
       "<Figure size 640x480 with 1 Axes>"
      ]
     },
     "metadata": {},
     "output_type": "display_data"
    }
   ],
   "source": [
    "df.groupby('Age')['Stress Level'].mean().plot(kind='bar')"
   ]
  },
  {
   "cell_type": "code",
   "execution_count": 53,
   "id": "e910b932-49c4-4246-8ca7-da0329cc6ab2",
   "metadata": {},
   "outputs": [
    {
     "data": {
      "text/plain": [
       "<Axes: xlabel='Gender'>"
      ]
     },
     "execution_count": 53,
     "metadata": {},
     "output_type": "execute_result"
    },
    {
     "data": {
      "image/png": "[encoded data removed]",
      "text/plain": [
       "<Figure size 640x480 with 1 Axes>"
      ]
     },
     "metadata": {},
     "output_type": "display_data"
    }
   ],
   "source": [
    "df[df['BMI Category'] == 'Overweight'].groupby('Gender')['Sleep Disorder'].size().plot(kind='bar')"
   ]
  },
  {
   "cell_type": "raw",
   "id": "94f9b0f9-fd0f-4145-838e-d2c8927fa959",
   "metadata": {},
   "source": [
    "Analyzing Engineers:\n",
    "Conclusions:\n",
    "Engineers have minimum stress level.\n",
    "Their sleep duration average is 7.9.\n",
    "They perform physical activity below than the average activity level.\n",
    "No engineer suffer from the problem of blood pressure.\n",
    "Their heart rate is normal.\n",
    "The average of their daily steps is almost 6000 steps.\n",
    "A person with ID 219 suffers from sleep apnea, though all the health parameters seems fine, it may be because of the age.\n",
    "A person with ID 202, 203, 316 suffers from insomnia, the potential reason behind this might be the age factor."
   ]
  },
  {
   "cell_type": "code",
   "execution_count": 54,
   "id": "faff4b44-972f-488b-b005-3932724a8342",
   "metadata": {},
   "outputs": [
    {
     "data": {
      "text/plain": [
       "51.857142857142854"
      ]
     },
     "execution_count": 54,
     "metadata": {},
     "output_type": "execute_result"
    }
   ],
   "source": [
    "df[df['Occupation'] == 'Engineer']['Physical Activity Level'].mean()"
   ]
  },
  {
   "cell_type": "code",
   "execution_count": 55,
   "id": "bad0632a-b6f7-46f3-aa2a-144c5dee39dd",
   "metadata": {},
   "outputs": [
    {
     "data": {
      "text/html": [
       "<div>\n",
       "<style scoped>\n",
       "    .dataframe tbody tr th:only-of-type {\n",
       "        vertical-align: middle;\n",
       "    }\n",
       "\n",
       "    .dataframe tbody tr th {\n",
       "        vertical-align: top;\n",
       "    }\n",
       "\n",
       "    .dataframe thead th {\n",
       "        text-align: right;\n",
       "    }\n",
       "</style>\n",
       "<table border=\"1\" class=\"dataframe\">\n",
       "  <thead>\n",
       "    <tr style=\"text-align: right;\">\n",
       "      <th></th>\n",
       "      <th>Person ID</th>\n",
       "      <th>Gender</th>\n",
       "      <th>Age</th>\n",
       "      <th>Occupation</th>\n",
       "      <th>Sleep Duration</th>\n",
       "      <th>Quality of Sleep</th>\n",
       "      <th>Physical Activity Level</th>\n",
       "      <th>Stress Level</th>\n",
       "      <th>BMI Category</th>\n",
       "      <th>Blood Pressure</th>\n",
       "      <th>Heart Rate</th>\n",
       "      <th>Daily Steps</th>\n",
       "      <th>Sleep Disorder</th>\n",
       "    </tr>\n",
       "  </thead>\n",
       "  <tbody>\n",
       "    <tr>\n",
       "      <th>50</th>\n",
       "      <td>51</td>\n",
       "      <td>Male</td>\n",
       "      <td>32</td>\n",
       "      <td>Engineer</td>\n",
       "      <td>7.5</td>\n",
       "      <td>8</td>\n",
       "      <td>45</td>\n",
       "      <td>3</td>\n",
       "      <td>Normal</td>\n",
       "      <td>120/80</td>\n",
       "      <td>70</td>\n",
       "      <td>8000</td>\n",
       "      <td>NaN</td>\n",
       "    </tr>\n",
       "    <tr>\n",
       "      <th>51</th>\n",
       "      <td>52</td>\n",
       "      <td>Male</td>\n",
       "      <td>32</td>\n",
       "      <td>Engineer</td>\n",
       "      <td>7.5</td>\n",
       "      <td>8</td>\n",
       "      <td>45</td>\n",
       "      <td>3</td>\n",
       "      <td>Normal</td>\n",
       "      <td>120/80</td>\n",
       "      <td>70</td>\n",
       "      <td>8000</td>\n",
       "      <td>NaN</td>\n",
       "    </tr>\n",
       "    <tr>\n",
       "      <th>86</th>\n",
       "      <td>87</td>\n",
       "      <td>Male</td>\n",
       "      <td>35</td>\n",
       "      <td>Engineer</td>\n",
       "      <td>7.2</td>\n",
       "      <td>8</td>\n",
       "      <td>60</td>\n",
       "      <td>4</td>\n",
       "      <td>Normal</td>\n",
       "      <td>125/80</td>\n",
       "      <td>65</td>\n",
       "      <td>5000</td>\n",
       "      <td>NaN</td>\n",
       "    </tr>\n",
       "    <tr>\n",
       "      <th>87</th>\n",
       "      <td>88</td>\n",
       "      <td>Male</td>\n",
       "      <td>35</td>\n",
       "      <td>Engineer</td>\n",
       "      <td>7.2</td>\n",
       "      <td>8</td>\n",
       "      <td>60</td>\n",
       "      <td>4</td>\n",
       "      <td>Normal</td>\n",
       "      <td>125/80</td>\n",
       "      <td>65</td>\n",
       "      <td>5000</td>\n",
       "      <td>NaN</td>\n",
       "    </tr>\n",
       "    <tr>\n",
       "      <th>88</th>\n",
       "      <td>89</td>\n",
       "      <td>Male</td>\n",
       "      <td>35</td>\n",
       "      <td>Engineer</td>\n",
       "      <td>7.3</td>\n",
       "      <td>8</td>\n",
       "      <td>60</td>\n",
       "      <td>4</td>\n",
       "      <td>Normal</td>\n",
       "      <td>125/80</td>\n",
       "      <td>65</td>\n",
       "      <td>5000</td>\n",
       "      <td>NaN</td>\n",
       "    </tr>\n",
       "  </tbody>\n",
       "</table>\n",
       "</div>"
      ],
      "text/plain": [
       "    Person ID Gender  Age Occupation  Sleep Duration  Quality of Sleep  \\\n",
       "50         51   Male   32   Engineer             7.5                 8   \n",
       "51         52   Male   32   Engineer             7.5                 8   \n",
       "86         87   Male   35   Engineer             7.2                 8   \n",
       "87         88   Male   35   Engineer             7.2                 8   \n",
       "88         89   Male   35   Engineer             7.3                 8   \n",
       "\n",
       "    Physical Activity Level  Stress Level BMI Category Blood Pressure  \\\n",
       "50                       45             3       Normal         120/80   \n",
       "51                       45             3       Normal         120/80   \n",
       "86                       60             4       Normal         125/80   \n",
       "87                       60             4       Normal         125/80   \n",
       "88                       60             4       Normal         125/80   \n",
       "\n",
       "    Heart Rate  Daily Steps Sleep Disorder  \n",
       "50          70         8000            NaN  \n",
       "51          70         8000            NaN  \n",
       "86          65         5000            NaN  \n",
       "87          65         5000            NaN  \n",
       "88          65         5000            NaN  "
      ]
     },
     "execution_count": 55,
     "metadata": {},
     "output_type": "execute_result"
    }
   ],
   "source": [
    "engineers = df[df['Occupation'] == 'Engineer']\n",
    "engineers.head()"
   ]
  },
  {
   "cell_type": "code",
   "execution_count": 56,
   "id": "d0671c3a-fc58-4e61-ba39-1f35d963a051",
   "metadata": {},
   "outputs": [
    {
     "data": {
      "text/plain": [
       "<Axes: xlabel='Occupation'>"
      ]
     },
     "execution_count": 56,
     "metadata": {},
     "output_type": "execute_result"
    },
    {
     "data": {
      "image/png": "[encoded data removed]",
      "text/plain": [
       "<Figure size 640x480 with 1 Axes>"
      ]
     },
     "metadata": {},
     "output_type": "display_data"
    }
   ],
   "source": [
    "df.groupby('Occupation')['Daily Steps'].mean().plot(kind='bar')"
   ]
  },
  {
   "cell_type": "code",
   "execution_count": 57,
   "id": "e3604baf-b54c-4796-b35d-989096e966b7",
   "metadata": {},
   "outputs": [
    {
     "data": {
      "text/plain": [
       "<Axes: xlabel='Occupation'>"
      ]
     },
     "execution_count": 57,
     "metadata": {},
     "output_type": "execute_result"
    },
    {
     "data": {
      "image/png": "[encoded data removed]",
      "text/plain": [
       "<Figure size 640x480 with 1 Axes>"
      ]
     },
     "metadata": {},
     "output_type": "display_data"
    }
   ],
   "source": [
    "df.groupby('Occupation')['Physical Activity Level'].mean().sort_values(ascending=False).plot(kind='bar')"
   ]
  },
  {
   "cell_type": "code",
   "execution_count": null,
   "id": "8cb23141-14a5-4598-9ef3-69aae1c9f7f9",
   "metadata": {},
   "outputs": [],
   "source": []
  },
  {
   "cell_type": "code",
   "execution_count": null,
   "id": "f49f3ade-2bca-499b-9d94-06b57a7b5c6e",
   "metadata": {},
   "outputs": [],
   "source": []
  },
  {
   "cell_type": "code",
   "execution_count": 58,
   "id": "1aea7857-98d6-40b6-a97e-4ccc7521a387",
   "metadata": {},
   "outputs": [
    {
     "data": {
      "text/plain": [
       "67.19047619047619"
      ]
     },
     "execution_count": 58,
     "metadata": {},
     "output_type": "execute_result"
    }
   ],
   "source": [
    "engineers['Heart Rate'].mean()"
   ]
  },
  {
   "cell_type": "code",
   "execution_count": 59,
   "id": "3d4d871c-eb75-4b36-9d5e-ad13ee25bc15",
   "metadata": {},
   "outputs": [
    {
     "data": {
      "text/plain": [
       "5980.952380952381"
      ]
     },
     "execution_count": 59,
     "metadata": {},
     "output_type": "execute_result"
    }
   ],
   "source": [
    "engineers['Daily Steps'].mean()"
   ]
  },
  {
   "cell_type": "code",
   "execution_count": 60,
   "id": "bc0522f2-9b8e-48f3-98ba-7e357cd8054e",
   "metadata": {},
   "outputs": [
    {
     "data": {
      "text/plain": [
       "50             NaN\n",
       "51             NaN\n",
       "86             NaN\n",
       "87             NaN\n",
       "88             NaN\n",
       "89             NaN\n",
       "90             NaN\n",
       "91             NaN\n",
       "107            NaN\n",
       "108            NaN\n",
       "147       Insomnia\n",
       "166            NaN\n",
       "201       Insomnia\n",
       "202       Insomnia\n",
       "203            NaN\n",
       "204            NaN\n",
       "205            NaN\n",
       "206            NaN\n",
       "207            NaN\n",
       "208            NaN\n",
       "209            NaN\n",
       "210            NaN\n",
       "211            NaN\n",
       "212            NaN\n",
       "213            NaN\n",
       "214            NaN\n",
       "215            NaN\n",
       "216            NaN\n",
       "217            NaN\n",
       "218    Sleep Apnea\n",
       "247       Insomnia\n",
       "279            NaN\n",
       "298            NaN\n",
       "299            NaN\n",
       "300            NaN\n",
       "301            NaN\n",
       "312            NaN\n",
       "313            NaN\n",
       "314            NaN\n",
       "315       Insomnia\n",
       "316            NaN\n",
       "317            NaN\n",
       "318            NaN\n",
       "319            NaN\n",
       "320            NaN\n",
       "321            NaN\n",
       "322            NaN\n",
       "323            NaN\n",
       "324            NaN\n",
       "325            NaN\n",
       "326            NaN\n",
       "327            NaN\n",
       "328            NaN\n",
       "329            NaN\n",
       "330            NaN\n",
       "331            NaN\n",
       "332            NaN\n",
       "333            NaN\n",
       "334            NaN\n",
       "335            NaN\n",
       "336            NaN\n",
       "337            NaN\n",
       "338            NaN\n",
       "Name: Sleep Disorder, dtype: object"
      ]
     },
     "execution_count": 60,
     "metadata": {},
     "output_type": "execute_result"
    }
   ],
   "source": [
    "engineers['Sleep Disorder']"
   ]
  },
  {
   "cell_type": "code",
   "execution_count": 61,
   "id": "c7e5cf46-72d6-4bef-af30-71dfb565f84f",
   "metadata": {},
   "outputs": [
    {
     "data": {
      "text/html": [
       "<div>\n",
       "<style scoped>\n",
       "    .dataframe tbody tr th:only-of-type {\n",
       "        vertical-align: middle;\n",
       "    }\n",
       "\n",
       "    .dataframe tbody tr th {\n",
       "        vertical-align: top;\n",
       "    }\n",
       "\n",
       "    .dataframe thead th {\n",
       "        text-align: right;\n",
       "    }\n",
       "</style>\n",
       "<table border=\"1\" class=\"dataframe\">\n",
       "  <thead>\n",
       "    <tr style=\"text-align: right;\">\n",
       "      <th></th>\n",
       "      <th>Person ID</th>\n",
       "      <th>Gender</th>\n",
       "      <th>Age</th>\n",
       "      <th>Occupation</th>\n",
       "      <th>Sleep Duration</th>\n",
       "      <th>Quality of Sleep</th>\n",
       "      <th>Physical Activity Level</th>\n",
       "      <th>Stress Level</th>\n",
       "      <th>BMI Category</th>\n",
       "      <th>Blood Pressure</th>\n",
       "      <th>Heart Rate</th>\n",
       "      <th>Daily Steps</th>\n",
       "      <th>Sleep Disorder</th>\n",
       "    </tr>\n",
       "  </thead>\n",
       "  <tbody>\n",
       "    <tr>\n",
       "      <th>218</th>\n",
       "      <td>219</td>\n",
       "      <td>Male</td>\n",
       "      <td>43</td>\n",
       "      <td>Engineer</td>\n",
       "      <td>7.8</td>\n",
       "      <td>8</td>\n",
       "      <td>90</td>\n",
       "      <td>5</td>\n",
       "      <td>Normal</td>\n",
       "      <td>130/85</td>\n",
       "      <td>70</td>\n",
       "      <td>8000</td>\n",
       "      <td>Sleep Apnea</td>\n",
       "    </tr>\n",
       "  </tbody>\n",
       "</table>\n",
       "</div>"
      ],
      "text/plain": [
       "     Person ID Gender  Age Occupation  Sleep Duration  Quality of Sleep  \\\n",
       "218        219   Male   43   Engineer             7.8                 8   \n",
       "\n",
       "     Physical Activity Level  Stress Level BMI Category Blood Pressure  \\\n",
       "218                       90             5       Normal         130/85   \n",
       "\n",
       "     Heart Rate  Daily Steps Sleep Disorder  \n",
       "218          70         8000    Sleep Apnea  "
      ]
     },
     "execution_count": 61,
     "metadata": {},
     "output_type": "execute_result"
    }
   ],
   "source": [
    "engineers[engineers['Sleep Disorder'] == 'Sleep Apnea']"
   ]
  },
  {
   "cell_type": "code",
   "execution_count": 62,
   "id": "e999fd9a-aae7-4727-9f3b-d2ffba843600",
   "metadata": {},
   "outputs": [
    {
     "data": {
      "text/html": [
       "<div>\n",
       "<style scoped>\n",
       "    .dataframe tbody tr th:only-of-type {\n",
       "        vertical-align: middle;\n",
       "    }\n",
       "\n",
       "    .dataframe tbody tr th {\n",
       "        vertical-align: top;\n",
       "    }\n",
       "\n",
       "    .dataframe thead th {\n",
       "        text-align: right;\n",
       "    }\n",
       "</style>\n",
       "<table border=\"1\" class=\"dataframe\">\n",
       "  <thead>\n",
       "    <tr style=\"text-align: right;\">\n",
       "      <th></th>\n",
       "      <th>Person ID</th>\n",
       "      <th>Gender</th>\n",
       "      <th>Age</th>\n",
       "      <th>Occupation</th>\n",
       "      <th>Sleep Duration</th>\n",
       "      <th>Quality of Sleep</th>\n",
       "      <th>Physical Activity Level</th>\n",
       "      <th>Stress Level</th>\n",
       "      <th>BMI Category</th>\n",
       "      <th>Blood Pressure</th>\n",
       "      <th>Heart Rate</th>\n",
       "      <th>Daily Steps</th>\n",
       "      <th>Sleep Disorder</th>\n",
       "    </tr>\n",
       "  </thead>\n",
       "  <tbody>\n",
       "    <tr>\n",
       "      <th>147</th>\n",
       "      <td>148</td>\n",
       "      <td>Male</td>\n",
       "      <td>39</td>\n",
       "      <td>Engineer</td>\n",
       "      <td>6.5</td>\n",
       "      <td>5</td>\n",
       "      <td>40</td>\n",
       "      <td>7</td>\n",
       "      <td>Overweight</td>\n",
       "      <td>132/87</td>\n",
       "      <td>80</td>\n",
       "      <td>4000</td>\n",
       "      <td>Insomnia</td>\n",
       "    </tr>\n",
       "    <tr>\n",
       "      <th>201</th>\n",
       "      <td>202</td>\n",
       "      <td>Male</td>\n",
       "      <td>43</td>\n",
       "      <td>Engineer</td>\n",
       "      <td>7.8</td>\n",
       "      <td>8</td>\n",
       "      <td>90</td>\n",
       "      <td>5</td>\n",
       "      <td>Normal</td>\n",
       "      <td>130/85</td>\n",
       "      <td>70</td>\n",
       "      <td>8000</td>\n",
       "      <td>Insomnia</td>\n",
       "    </tr>\n",
       "    <tr>\n",
       "      <th>202</th>\n",
       "      <td>203</td>\n",
       "      <td>Male</td>\n",
       "      <td>43</td>\n",
       "      <td>Engineer</td>\n",
       "      <td>7.8</td>\n",
       "      <td>8</td>\n",
       "      <td>90</td>\n",
       "      <td>5</td>\n",
       "      <td>Normal</td>\n",
       "      <td>130/85</td>\n",
       "      <td>70</td>\n",
       "      <td>8000</td>\n",
       "      <td>Insomnia</td>\n",
       "    </tr>\n",
       "    <tr>\n",
       "      <th>247</th>\n",
       "      <td>248</td>\n",
       "      <td>Male</td>\n",
       "      <td>44</td>\n",
       "      <td>Engineer</td>\n",
       "      <td>6.8</td>\n",
       "      <td>7</td>\n",
       "      <td>45</td>\n",
       "      <td>7</td>\n",
       "      <td>Overweight</td>\n",
       "      <td>130/85</td>\n",
       "      <td>78</td>\n",
       "      <td>5000</td>\n",
       "      <td>Insomnia</td>\n",
       "    </tr>\n",
       "    <tr>\n",
       "      <th>315</th>\n",
       "      <td>316</td>\n",
       "      <td>Female</td>\n",
       "      <td>53</td>\n",
       "      <td>Engineer</td>\n",
       "      <td>8.3</td>\n",
       "      <td>9</td>\n",
       "      <td>30</td>\n",
       "      <td>3</td>\n",
       "      <td>Normal</td>\n",
       "      <td>125/80</td>\n",
       "      <td>65</td>\n",
       "      <td>5000</td>\n",
       "      <td>Insomnia</td>\n",
       "    </tr>\n",
       "  </tbody>\n",
       "</table>\n",
       "</div>"
      ],
      "text/plain": [
       "     Person ID  Gender  Age Occupation  Sleep Duration  Quality of Sleep  \\\n",
       "147        148    Male   39   Engineer             6.5                 5   \n",
       "201        202    Male   43   Engineer             7.8                 8   \n",
       "202        203    Male   43   Engineer             7.8                 8   \n",
       "247        248    Male   44   Engineer             6.8                 7   \n",
       "315        316  Female   53   Engineer             8.3                 9   \n",
       "\n",
       "     Physical Activity Level  Stress Level BMI Category Blood Pressure  \\\n",
       "147                       40             7   Overweight         132/87   \n",
       "201                       90             5       Normal         130/85   \n",
       "202                       90             5       Normal         130/85   \n",
       "247                       45             7   Overweight         130/85   \n",
       "315                       30             3       Normal         125/80   \n",
       "\n",
       "     Heart Rate  Daily Steps Sleep Disorder  \n",
       "147          80         4000       Insomnia  \n",
       "201          70         8000       Insomnia  \n",
       "202          70         8000       Insomnia  \n",
       "247          78         5000       Insomnia  \n",
       "315          65         5000       Insomnia  "
      ]
     },
     "execution_count": 62,
     "metadata": {},
     "output_type": "execute_result"
    }
   ],
   "source": [
    "engineers[engineers['Sleep Disorder'] == 'Insomnia']"
   ]
  },
  {
   "cell_type": "code",
   "execution_count": 63,
   "id": "c47732ac-b70d-4ca8-81e3-f5370464ba89",
   "metadata": {},
   "outputs": [
    {
     "data": {
      "text/html": [
       "<div>\n",
       "<style scoped>\n",
       "    .dataframe tbody tr th:only-of-type {\n",
       "        vertical-align: middle;\n",
       "    }\n",
       "\n",
       "    .dataframe tbody tr th {\n",
       "        vertical-align: top;\n",
       "    }\n",
       "\n",
       "    .dataframe thead th {\n",
       "        text-align: right;\n",
       "    }\n",
       "</style>\n",
       "<table border=\"1\" class=\"dataframe\">\n",
       "  <thead>\n",
       "    <tr style=\"text-align: right;\">\n",
       "      <th></th>\n",
       "      <th>Person ID</th>\n",
       "      <th>Gender</th>\n",
       "      <th>Age</th>\n",
       "      <th>Occupation</th>\n",
       "      <th>Sleep Duration</th>\n",
       "      <th>Quality of Sleep</th>\n",
       "      <th>Physical Activity Level</th>\n",
       "      <th>Stress Level</th>\n",
       "      <th>BMI Category</th>\n",
       "      <th>Blood Pressure</th>\n",
       "      <th>Heart Rate</th>\n",
       "      <th>Daily Steps</th>\n",
       "      <th>Sleep Disorder</th>\n",
       "    </tr>\n",
       "  </thead>\n",
       "  <tbody>\n",
       "    <tr>\n",
       "      <th>3</th>\n",
       "      <td>4</td>\n",
       "      <td>Male</td>\n",
       "      <td>28</td>\n",
       "      <td>Sales Representative</td>\n",
       "      <td>5.9</td>\n",
       "      <td>4</td>\n",
       "      <td>30</td>\n",
       "      <td>8</td>\n",
       "      <td>Obese</td>\n",
       "      <td>140/90</td>\n",
       "      <td>85</td>\n",
       "      <td>3000</td>\n",
       "      <td>Sleep Apnea</td>\n",
       "    </tr>\n",
       "    <tr>\n",
       "      <th>4</th>\n",
       "      <td>5</td>\n",
       "      <td>Male</td>\n",
       "      <td>28</td>\n",
       "      <td>Sales Representative</td>\n",
       "      <td>5.9</td>\n",
       "      <td>4</td>\n",
       "      <td>30</td>\n",
       "      <td>8</td>\n",
       "      <td>Obese</td>\n",
       "      <td>140/90</td>\n",
       "      <td>85</td>\n",
       "      <td>3000</td>\n",
       "      <td>Sleep Apnea</td>\n",
       "    </tr>\n",
       "    <tr>\n",
       "      <th>16</th>\n",
       "      <td>17</td>\n",
       "      <td>Female</td>\n",
       "      <td>29</td>\n",
       "      <td>Nurse</td>\n",
       "      <td>6.5</td>\n",
       "      <td>5</td>\n",
       "      <td>40</td>\n",
       "      <td>7</td>\n",
       "      <td>Normal Weight</td>\n",
       "      <td>132/87</td>\n",
       "      <td>80</td>\n",
       "      <td>4000</td>\n",
       "      <td>Sleep Apnea</td>\n",
       "    </tr>\n",
       "    <tr>\n",
       "      <th>17</th>\n",
       "      <td>18</td>\n",
       "      <td>Male</td>\n",
       "      <td>29</td>\n",
       "      <td>Doctor</td>\n",
       "      <td>6.0</td>\n",
       "      <td>6</td>\n",
       "      <td>30</td>\n",
       "      <td>8</td>\n",
       "      <td>Normal</td>\n",
       "      <td>120/80</td>\n",
       "      <td>70</td>\n",
       "      <td>8000</td>\n",
       "      <td>Sleep Apnea</td>\n",
       "    </tr>\n",
       "    <tr>\n",
       "      <th>30</th>\n",
       "      <td>31</td>\n",
       "      <td>Female</td>\n",
       "      <td>30</td>\n",
       "      <td>Nurse</td>\n",
       "      <td>6.4</td>\n",
       "      <td>5</td>\n",
       "      <td>35</td>\n",
       "      <td>7</td>\n",
       "      <td>Normal Weight</td>\n",
       "      <td>130/86</td>\n",
       "      <td>78</td>\n",
       "      <td>4100</td>\n",
       "      <td>Sleep Apnea</td>\n",
       "    </tr>\n",
       "    <tr>\n",
       "      <th>49</th>\n",
       "      <td>50</td>\n",
       "      <td>Male</td>\n",
       "      <td>31</td>\n",
       "      <td>Doctor</td>\n",
       "      <td>7.7</td>\n",
       "      <td>7</td>\n",
       "      <td>75</td>\n",
       "      <td>6</td>\n",
       "      <td>Normal</td>\n",
       "      <td>120/80</td>\n",
       "      <td>70</td>\n",
       "      <td>8000</td>\n",
       "      <td>Sleep Apnea</td>\n",
       "    </tr>\n",
       "    <tr>\n",
       "      <th>80</th>\n",
       "      <td>81</td>\n",
       "      <td>Female</td>\n",
       "      <td>34</td>\n",
       "      <td>Scientist</td>\n",
       "      <td>5.8</td>\n",
       "      <td>4</td>\n",
       "      <td>32</td>\n",
       "      <td>8</td>\n",
       "      <td>Overweight</td>\n",
       "      <td>131/86</td>\n",
       "      <td>81</td>\n",
       "      <td>5200</td>\n",
       "      <td>Sleep Apnea</td>\n",
       "    </tr>\n",
       "    <tr>\n",
       "      <th>81</th>\n",
       "      <td>82</td>\n",
       "      <td>Female</td>\n",
       "      <td>34</td>\n",
       "      <td>Scientist</td>\n",
       "      <td>5.8</td>\n",
       "      <td>4</td>\n",
       "      <td>32</td>\n",
       "      <td>8</td>\n",
       "      <td>Overweight</td>\n",
       "      <td>131/86</td>\n",
       "      <td>81</td>\n",
       "      <td>5200</td>\n",
       "      <td>Sleep Apnea</td>\n",
       "    </tr>\n",
       "    <tr>\n",
       "      <th>93</th>\n",
       "      <td>94</td>\n",
       "      <td>Male</td>\n",
       "      <td>35</td>\n",
       "      <td>Lawyer</td>\n",
       "      <td>7.4</td>\n",
       "      <td>7</td>\n",
       "      <td>60</td>\n",
       "      <td>5</td>\n",
       "      <td>Obese</td>\n",
       "      <td>135/88</td>\n",
       "      <td>84</td>\n",
       "      <td>3300</td>\n",
       "      <td>Sleep Apnea</td>\n",
       "    </tr>\n",
       "    <tr>\n",
       "      <th>103</th>\n",
       "      <td>104</td>\n",
       "      <td>Male</td>\n",
       "      <td>36</td>\n",
       "      <td>Teacher</td>\n",
       "      <td>6.6</td>\n",
       "      <td>5</td>\n",
       "      <td>35</td>\n",
       "      <td>7</td>\n",
       "      <td>Overweight</td>\n",
       "      <td>129/84</td>\n",
       "      <td>74</td>\n",
       "      <td>4800</td>\n",
       "      <td>Sleep Apnea</td>\n",
       "    </tr>\n",
       "    <tr>\n",
       "      <th>104</th>\n",
       "      <td>105</td>\n",
       "      <td>Female</td>\n",
       "      <td>36</td>\n",
       "      <td>Teacher</td>\n",
       "      <td>7.2</td>\n",
       "      <td>8</td>\n",
       "      <td>60</td>\n",
       "      <td>4</td>\n",
       "      <td>Normal</td>\n",
       "      <td>115/75</td>\n",
       "      <td>68</td>\n",
       "      <td>7000</td>\n",
       "      <td>Sleep Apnea</td>\n",
       "    </tr>\n",
       "    <tr>\n",
       "      <th>144</th>\n",
       "      <td>145</td>\n",
       "      <td>Male</td>\n",
       "      <td>38</td>\n",
       "      <td>Lawyer</td>\n",
       "      <td>7.1</td>\n",
       "      <td>8</td>\n",
       "      <td>60</td>\n",
       "      <td>5</td>\n",
       "      <td>Normal</td>\n",
       "      <td>130/85</td>\n",
       "      <td>68</td>\n",
       "      <td>8000</td>\n",
       "      <td>Sleep Apnea</td>\n",
       "    </tr>\n",
       "    <tr>\n",
       "      <th>145</th>\n",
       "      <td>146</td>\n",
       "      <td>Female</td>\n",
       "      <td>38</td>\n",
       "      <td>Lawyer</td>\n",
       "      <td>7.4</td>\n",
       "      <td>7</td>\n",
       "      <td>60</td>\n",
       "      <td>5</td>\n",
       "      <td>Obese</td>\n",
       "      <td>135/88</td>\n",
       "      <td>84</td>\n",
       "      <td>3300</td>\n",
       "      <td>Sleep Apnea</td>\n",
       "    </tr>\n",
       "    <tr>\n",
       "      <th>184</th>\n",
       "      <td>185</td>\n",
       "      <td>Female</td>\n",
       "      <td>42</td>\n",
       "      <td>Teacher</td>\n",
       "      <td>6.8</td>\n",
       "      <td>6</td>\n",
       "      <td>45</td>\n",
       "      <td>7</td>\n",
       "      <td>Overweight</td>\n",
       "      <td>130/85</td>\n",
       "      <td>78</td>\n",
       "      <td>5000</td>\n",
       "      <td>Sleep Apnea</td>\n",
       "    </tr>\n",
       "    <tr>\n",
       "      <th>185</th>\n",
       "      <td>186</td>\n",
       "      <td>Female</td>\n",
       "      <td>42</td>\n",
       "      <td>Teacher</td>\n",
       "      <td>6.8</td>\n",
       "      <td>6</td>\n",
       "      <td>45</td>\n",
       "      <td>7</td>\n",
       "      <td>Overweight</td>\n",
       "      <td>130/85</td>\n",
       "      <td>78</td>\n",
       "      <td>5000</td>\n",
       "      <td>Sleep Apnea</td>\n",
       "    </tr>\n",
       "    <tr>\n",
       "      <th>218</th>\n",
       "      <td>219</td>\n",
       "      <td>Male</td>\n",
       "      <td>43</td>\n",
       "      <td>Engineer</td>\n",
       "      <td>7.8</td>\n",
       "      <td>8</td>\n",
       "      <td>90</td>\n",
       "      <td>5</td>\n",
       "      <td>Normal</td>\n",
       "      <td>130/85</td>\n",
       "      <td>70</td>\n",
       "      <td>8000</td>\n",
       "      <td>Sleep Apnea</td>\n",
       "    </tr>\n",
       "    <tr>\n",
       "      <th>219</th>\n",
       "      <td>220</td>\n",
       "      <td>Male</td>\n",
       "      <td>43</td>\n",
       "      <td>Salesperson</td>\n",
       "      <td>6.5</td>\n",
       "      <td>6</td>\n",
       "      <td>45</td>\n",
       "      <td>7</td>\n",
       "      <td>Overweight</td>\n",
       "      <td>130/85</td>\n",
       "      <td>72</td>\n",
       "      <td>6000</td>\n",
       "      <td>Sleep Apnea</td>\n",
       "    </tr>\n",
       "    <tr>\n",
       "      <th>265</th>\n",
       "      <td>266</td>\n",
       "      <td>Female</td>\n",
       "      <td>48</td>\n",
       "      <td>Nurse</td>\n",
       "      <td>5.9</td>\n",
       "      <td>6</td>\n",
       "      <td>90</td>\n",
       "      <td>8</td>\n",
       "      <td>Overweight</td>\n",
       "      <td>140/95</td>\n",
       "      <td>75</td>\n",
       "      <td>10000</td>\n",
       "      <td>Sleep Apnea</td>\n",
       "    </tr>\n",
       "    <tr>\n",
       "      <th>268</th>\n",
       "      <td>269</td>\n",
       "      <td>Female</td>\n",
       "      <td>49</td>\n",
       "      <td>Nurse</td>\n",
       "      <td>6.0</td>\n",
       "      <td>6</td>\n",
       "      <td>90</td>\n",
       "      <td>8</td>\n",
       "      <td>Overweight</td>\n",
       "      <td>140/95</td>\n",
       "      <td>75</td>\n",
       "      <td>10000</td>\n",
       "      <td>Sleep Apnea</td>\n",
       "    </tr>\n",
       "    <tr>\n",
       "      <th>269</th>\n",
       "      <td>270</td>\n",
       "      <td>Female</td>\n",
       "      <td>49</td>\n",
       "      <td>Nurse</td>\n",
       "      <td>6.1</td>\n",
       "      <td>6</td>\n",
       "      <td>90</td>\n",
       "      <td>8</td>\n",
       "      <td>Overweight</td>\n",
       "      <td>140/95</td>\n",
       "      <td>75</td>\n",
       "      <td>10000</td>\n",
       "      <td>Sleep Apnea</td>\n",
       "    </tr>\n",
       "    <tr>\n",
       "      <th>270</th>\n",
       "      <td>271</td>\n",
       "      <td>Female</td>\n",
       "      <td>49</td>\n",
       "      <td>Nurse</td>\n",
       "      <td>6.1</td>\n",
       "      <td>6</td>\n",
       "      <td>90</td>\n",
       "      <td>8</td>\n",
       "      <td>Overweight</td>\n",
       "      <td>140/95</td>\n",
       "      <td>75</td>\n",
       "      <td>10000</td>\n",
       "      <td>Sleep Apnea</td>\n",
       "    </tr>\n",
       "    <tr>\n",
       "      <th>271</th>\n",
       "      <td>272</td>\n",
       "      <td>Female</td>\n",
       "      <td>49</td>\n",
       "      <td>Nurse</td>\n",
       "      <td>6.1</td>\n",
       "      <td>6</td>\n",
       "      <td>90</td>\n",
       "      <td>8</td>\n",
       "      <td>Overweight</td>\n",
       "      <td>140/95</td>\n",
       "      <td>75</td>\n",
       "      <td>10000</td>\n",
       "      <td>Sleep Apnea</td>\n",
       "    </tr>\n",
       "    <tr>\n",
       "      <th>272</th>\n",
       "      <td>273</td>\n",
       "      <td>Female</td>\n",
       "      <td>49</td>\n",
       "      <td>Nurse</td>\n",
       "      <td>6.1</td>\n",
       "      <td>6</td>\n",
       "      <td>90</td>\n",
       "      <td>8</td>\n",
       "      <td>Overweight</td>\n",
       "      <td>140/95</td>\n",
       "      <td>75</td>\n",
       "      <td>10000</td>\n",
       "      <td>Sleep Apnea</td>\n",
       "    </tr>\n",
       "    <tr>\n",
       "      <th>273</th>\n",
       "      <td>274</td>\n",
       "      <td>Female</td>\n",
       "      <td>49</td>\n",
       "      <td>Nurse</td>\n",
       "      <td>6.2</td>\n",
       "      <td>6</td>\n",
       "      <td>90</td>\n",
       "      <td>8</td>\n",
       "      <td>Overweight</td>\n",
       "      <td>140/95</td>\n",
       "      <td>75</td>\n",
       "      <td>10000</td>\n",
       "      <td>Sleep Apnea</td>\n",
       "    </tr>\n",
       "    <tr>\n",
       "      <th>274</th>\n",
       "      <td>275</td>\n",
       "      <td>Female</td>\n",
       "      <td>49</td>\n",
       "      <td>Nurse</td>\n",
       "      <td>6.2</td>\n",
       "      <td>6</td>\n",
       "      <td>90</td>\n",
       "      <td>8</td>\n",
       "      <td>Overweight</td>\n",
       "      <td>140/95</td>\n",
       "      <td>75</td>\n",
       "      <td>10000</td>\n",
       "      <td>Sleep Apnea</td>\n",
       "    </tr>\n",
       "    <tr>\n",
       "      <th>275</th>\n",
       "      <td>276</td>\n",
       "      <td>Female</td>\n",
       "      <td>49</td>\n",
       "      <td>Nurse</td>\n",
       "      <td>6.2</td>\n",
       "      <td>6</td>\n",
       "      <td>90</td>\n",
       "      <td>8</td>\n",
       "      <td>Overweight</td>\n",
       "      <td>140/95</td>\n",
       "      <td>75</td>\n",
       "      <td>10000</td>\n",
       "      <td>Sleep Apnea</td>\n",
       "    </tr>\n",
       "    <tr>\n",
       "      <th>276</th>\n",
       "      <td>277</td>\n",
       "      <td>Male</td>\n",
       "      <td>49</td>\n",
       "      <td>Doctor</td>\n",
       "      <td>8.1</td>\n",
       "      <td>9</td>\n",
       "      <td>85</td>\n",
       "      <td>3</td>\n",
       "      <td>Obese</td>\n",
       "      <td>139/91</td>\n",
       "      <td>86</td>\n",
       "      <td>3700</td>\n",
       "      <td>Sleep Apnea</td>\n",
       "    </tr>\n",
       "    <tr>\n",
       "      <th>277</th>\n",
       "      <td>278</td>\n",
       "      <td>Male</td>\n",
       "      <td>49</td>\n",
       "      <td>Doctor</td>\n",
       "      <td>8.1</td>\n",
       "      <td>9</td>\n",
       "      <td>85</td>\n",
       "      <td>3</td>\n",
       "      <td>Obese</td>\n",
       "      <td>139/91</td>\n",
       "      <td>86</td>\n",
       "      <td>3700</td>\n",
       "      <td>Sleep Apnea</td>\n",
       "    </tr>\n",
       "    <tr>\n",
       "      <th>281</th>\n",
       "      <td>282</td>\n",
       "      <td>Female</td>\n",
       "      <td>50</td>\n",
       "      <td>Nurse</td>\n",
       "      <td>6.1</td>\n",
       "      <td>6</td>\n",
       "      <td>90</td>\n",
       "      <td>8</td>\n",
       "      <td>Overweight</td>\n",
       "      <td>140/95</td>\n",
       "      <td>75</td>\n",
       "      <td>10000</td>\n",
       "      <td>Sleep Apnea</td>\n",
       "    </tr>\n",
       "    <tr>\n",
       "      <th>282</th>\n",
       "      <td>283</td>\n",
       "      <td>Female</td>\n",
       "      <td>50</td>\n",
       "      <td>Nurse</td>\n",
       "      <td>6.0</td>\n",
       "      <td>6</td>\n",
       "      <td>90</td>\n",
       "      <td>8</td>\n",
       "      <td>Overweight</td>\n",
       "      <td>140/95</td>\n",
       "      <td>75</td>\n",
       "      <td>10000</td>\n",
       "      <td>Sleep Apnea</td>\n",
       "    </tr>\n",
       "    <tr>\n",
       "      <th>283</th>\n",
       "      <td>284</td>\n",
       "      <td>Female</td>\n",
       "      <td>50</td>\n",
       "      <td>Nurse</td>\n",
       "      <td>6.0</td>\n",
       "      <td>6</td>\n",
       "      <td>90</td>\n",
       "      <td>8</td>\n",
       "      <td>Overweight</td>\n",
       "      <td>140/95</td>\n",
       "      <td>75</td>\n",
       "      <td>10000</td>\n",
       "      <td>Sleep Apnea</td>\n",
       "    </tr>\n",
       "    <tr>\n",
       "      <th>284</th>\n",
       "      <td>285</td>\n",
       "      <td>Female</td>\n",
       "      <td>50</td>\n",
       "      <td>Nurse</td>\n",
       "      <td>6.0</td>\n",
       "      <td>6</td>\n",
       "      <td>90</td>\n",
       "      <td>8</td>\n",
       "      <td>Overweight</td>\n",
       "      <td>140/95</td>\n",
       "      <td>75</td>\n",
       "      <td>10000</td>\n",
       "      <td>Sleep Apnea</td>\n",
       "    </tr>\n",
       "    <tr>\n",
       "      <th>285</th>\n",
       "      <td>286</td>\n",
       "      <td>Female</td>\n",
       "      <td>50</td>\n",
       "      <td>Nurse</td>\n",
       "      <td>6.0</td>\n",
       "      <td>6</td>\n",
       "      <td>90</td>\n",
       "      <td>8</td>\n",
       "      <td>Overweight</td>\n",
       "      <td>140/95</td>\n",
       "      <td>75</td>\n",
       "      <td>10000</td>\n",
       "      <td>Sleep Apnea</td>\n",
       "    </tr>\n",
       "    <tr>\n",
       "      <th>286</th>\n",
       "      <td>287</td>\n",
       "      <td>Female</td>\n",
       "      <td>50</td>\n",
       "      <td>Nurse</td>\n",
       "      <td>6.0</td>\n",
       "      <td>6</td>\n",
       "      <td>90</td>\n",
       "      <td>8</td>\n",
       "      <td>Overweight</td>\n",
       "      <td>140/95</td>\n",
       "      <td>75</td>\n",
       "      <td>10000</td>\n",
       "      <td>Sleep Apnea</td>\n",
       "    </tr>\n",
       "    <tr>\n",
       "      <th>287</th>\n",
       "      <td>288</td>\n",
       "      <td>Female</td>\n",
       "      <td>50</td>\n",
       "      <td>Nurse</td>\n",
       "      <td>6.0</td>\n",
       "      <td>6</td>\n",
       "      <td>90</td>\n",
       "      <td>8</td>\n",
       "      <td>Overweight</td>\n",
       "      <td>140/95</td>\n",
       "      <td>75</td>\n",
       "      <td>10000</td>\n",
       "      <td>Sleep Apnea</td>\n",
       "    </tr>\n",
       "    <tr>\n",
       "      <th>288</th>\n",
       "      <td>289</td>\n",
       "      <td>Female</td>\n",
       "      <td>50</td>\n",
       "      <td>Nurse</td>\n",
       "      <td>6.0</td>\n",
       "      <td>6</td>\n",
       "      <td>90</td>\n",
       "      <td>8</td>\n",
       "      <td>Overweight</td>\n",
       "      <td>140/95</td>\n",
       "      <td>75</td>\n",
       "      <td>10000</td>\n",
       "      <td>Sleep Apnea</td>\n",
       "    </tr>\n",
       "    <tr>\n",
       "      <th>289</th>\n",
       "      <td>290</td>\n",
       "      <td>Female</td>\n",
       "      <td>50</td>\n",
       "      <td>Nurse</td>\n",
       "      <td>6.1</td>\n",
       "      <td>6</td>\n",
       "      <td>90</td>\n",
       "      <td>8</td>\n",
       "      <td>Overweight</td>\n",
       "      <td>140/95</td>\n",
       "      <td>75</td>\n",
       "      <td>10000</td>\n",
       "      <td>Sleep Apnea</td>\n",
       "    </tr>\n",
       "    <tr>\n",
       "      <th>290</th>\n",
       "      <td>291</td>\n",
       "      <td>Female</td>\n",
       "      <td>50</td>\n",
       "      <td>Nurse</td>\n",
       "      <td>6.0</td>\n",
       "      <td>6</td>\n",
       "      <td>90</td>\n",
       "      <td>8</td>\n",
       "      <td>Overweight</td>\n",
       "      <td>140/95</td>\n",
       "      <td>75</td>\n",
       "      <td>10000</td>\n",
       "      <td>Sleep Apnea</td>\n",
       "    </tr>\n",
       "    <tr>\n",
       "      <th>291</th>\n",
       "      <td>292</td>\n",
       "      <td>Female</td>\n",
       "      <td>50</td>\n",
       "      <td>Nurse</td>\n",
       "      <td>6.1</td>\n",
       "      <td>6</td>\n",
       "      <td>90</td>\n",
       "      <td>8</td>\n",
       "      <td>Overweight</td>\n",
       "      <td>140/95</td>\n",
       "      <td>75</td>\n",
       "      <td>10000</td>\n",
       "      <td>Sleep Apnea</td>\n",
       "    </tr>\n",
       "    <tr>\n",
       "      <th>292</th>\n",
       "      <td>293</td>\n",
       "      <td>Female</td>\n",
       "      <td>50</td>\n",
       "      <td>Nurse</td>\n",
       "      <td>6.1</td>\n",
       "      <td>6</td>\n",
       "      <td>90</td>\n",
       "      <td>8</td>\n",
       "      <td>Overweight</td>\n",
       "      <td>140/95</td>\n",
       "      <td>75</td>\n",
       "      <td>10000</td>\n",
       "      <td>Sleep Apnea</td>\n",
       "    </tr>\n",
       "    <tr>\n",
       "      <th>293</th>\n",
       "      <td>294</td>\n",
       "      <td>Female</td>\n",
       "      <td>50</td>\n",
       "      <td>Nurse</td>\n",
       "      <td>6.0</td>\n",
       "      <td>6</td>\n",
       "      <td>90</td>\n",
       "      <td>8</td>\n",
       "      <td>Overweight</td>\n",
       "      <td>140/95</td>\n",
       "      <td>75</td>\n",
       "      <td>10000</td>\n",
       "      <td>Sleep Apnea</td>\n",
       "    </tr>\n",
       "    <tr>\n",
       "      <th>294</th>\n",
       "      <td>295</td>\n",
       "      <td>Female</td>\n",
       "      <td>50</td>\n",
       "      <td>Nurse</td>\n",
       "      <td>6.1</td>\n",
       "      <td>6</td>\n",
       "      <td>90</td>\n",
       "      <td>8</td>\n",
       "      <td>Overweight</td>\n",
       "      <td>140/95</td>\n",
       "      <td>75</td>\n",
       "      <td>10000</td>\n",
       "      <td>Sleep Apnea</td>\n",
       "    </tr>\n",
       "    <tr>\n",
       "      <th>295</th>\n",
       "      <td>296</td>\n",
       "      <td>Female</td>\n",
       "      <td>50</td>\n",
       "      <td>Nurse</td>\n",
       "      <td>6.0</td>\n",
       "      <td>6</td>\n",
       "      <td>90</td>\n",
       "      <td>8</td>\n",
       "      <td>Overweight</td>\n",
       "      <td>140/95</td>\n",
       "      <td>75</td>\n",
       "      <td>10000</td>\n",
       "      <td>Sleep Apnea</td>\n",
       "    </tr>\n",
       "    <tr>\n",
       "      <th>296</th>\n",
       "      <td>297</td>\n",
       "      <td>Female</td>\n",
       "      <td>50</td>\n",
       "      <td>Nurse</td>\n",
       "      <td>6.1</td>\n",
       "      <td>6</td>\n",
       "      <td>90</td>\n",
       "      <td>8</td>\n",
       "      <td>Overweight</td>\n",
       "      <td>140/95</td>\n",
       "      <td>75</td>\n",
       "      <td>10000</td>\n",
       "      <td>Sleep Apnea</td>\n",
       "    </tr>\n",
       "    <tr>\n",
       "      <th>297</th>\n",
       "      <td>298</td>\n",
       "      <td>Female</td>\n",
       "      <td>50</td>\n",
       "      <td>Nurse</td>\n",
       "      <td>6.1</td>\n",
       "      <td>6</td>\n",
       "      <td>90</td>\n",
       "      <td>8</td>\n",
       "      <td>Overweight</td>\n",
       "      <td>140/95</td>\n",
       "      <td>75</td>\n",
       "      <td>10000</td>\n",
       "      <td>Sleep Apnea</td>\n",
       "    </tr>\n",
       "    <tr>\n",
       "      <th>303</th>\n",
       "      <td>304</td>\n",
       "      <td>Female</td>\n",
       "      <td>51</td>\n",
       "      <td>Nurse</td>\n",
       "      <td>6.0</td>\n",
       "      <td>6</td>\n",
       "      <td>90</td>\n",
       "      <td>8</td>\n",
       "      <td>Overweight</td>\n",
       "      <td>140/95</td>\n",
       "      <td>75</td>\n",
       "      <td>10000</td>\n",
       "      <td>Sleep Apnea</td>\n",
       "    </tr>\n",
       "    <tr>\n",
       "      <th>304</th>\n",
       "      <td>305</td>\n",
       "      <td>Female</td>\n",
       "      <td>51</td>\n",
       "      <td>Nurse</td>\n",
       "      <td>6.1</td>\n",
       "      <td>6</td>\n",
       "      <td>90</td>\n",
       "      <td>8</td>\n",
       "      <td>Overweight</td>\n",
       "      <td>140/95</td>\n",
       "      <td>75</td>\n",
       "      <td>10000</td>\n",
       "      <td>Sleep Apnea</td>\n",
       "    </tr>\n",
       "    <tr>\n",
       "      <th>305</th>\n",
       "      <td>306</td>\n",
       "      <td>Female</td>\n",
       "      <td>51</td>\n",
       "      <td>Nurse</td>\n",
       "      <td>6.1</td>\n",
       "      <td>6</td>\n",
       "      <td>90</td>\n",
       "      <td>8</td>\n",
       "      <td>Overweight</td>\n",
       "      <td>140/95</td>\n",
       "      <td>75</td>\n",
       "      <td>10000</td>\n",
       "      <td>Sleep Apnea</td>\n",
       "    </tr>\n",
       "    <tr>\n",
       "      <th>339</th>\n",
       "      <td>340</td>\n",
       "      <td>Female</td>\n",
       "      <td>55</td>\n",
       "      <td>Nurse</td>\n",
       "      <td>8.1</td>\n",
       "      <td>9</td>\n",
       "      <td>75</td>\n",
       "      <td>4</td>\n",
       "      <td>Overweight</td>\n",
       "      <td>140/95</td>\n",
       "      <td>72</td>\n",
       "      <td>5000</td>\n",
       "      <td>Sleep Apnea</td>\n",
       "    </tr>\n",
       "    <tr>\n",
       "      <th>340</th>\n",
       "      <td>341</td>\n",
       "      <td>Female</td>\n",
       "      <td>55</td>\n",
       "      <td>Nurse</td>\n",
       "      <td>8.1</td>\n",
       "      <td>9</td>\n",
       "      <td>75</td>\n",
       "      <td>4</td>\n",
       "      <td>Overweight</td>\n",
       "      <td>140/95</td>\n",
       "      <td>72</td>\n",
       "      <td>5000</td>\n",
       "      <td>Sleep Apnea</td>\n",
       "    </tr>\n",
       "    <tr>\n",
       "      <th>344</th>\n",
       "      <td>345</td>\n",
       "      <td>Female</td>\n",
       "      <td>57</td>\n",
       "      <td>Nurse</td>\n",
       "      <td>8.2</td>\n",
       "      <td>9</td>\n",
       "      <td>75</td>\n",
       "      <td>3</td>\n",
       "      <td>Overweight</td>\n",
       "      <td>140/95</td>\n",
       "      <td>68</td>\n",
       "      <td>7000</td>\n",
       "      <td>Sleep Apnea</td>\n",
       "    </tr>\n",
       "    <tr>\n",
       "      <th>345</th>\n",
       "      <td>346</td>\n",
       "      <td>Female</td>\n",
       "      <td>57</td>\n",
       "      <td>Nurse</td>\n",
       "      <td>8.2</td>\n",
       "      <td>9</td>\n",
       "      <td>75</td>\n",
       "      <td>3</td>\n",
       "      <td>Overweight</td>\n",
       "      <td>140/95</td>\n",
       "      <td>68</td>\n",
       "      <td>7000</td>\n",
       "      <td>Sleep Apnea</td>\n",
       "    </tr>\n",
       "    <tr>\n",
       "      <th>346</th>\n",
       "      <td>347</td>\n",
       "      <td>Female</td>\n",
       "      <td>57</td>\n",
       "      <td>Nurse</td>\n",
       "      <td>8.2</td>\n",
       "      <td>9</td>\n",
       "      <td>75</td>\n",
       "      <td>3</td>\n",
       "      <td>Overweight</td>\n",
       "      <td>140/95</td>\n",
       "      <td>68</td>\n",
       "      <td>7000</td>\n",
       "      <td>Sleep Apnea</td>\n",
       "    </tr>\n",
       "    <tr>\n",
       "      <th>347</th>\n",
       "      <td>348</td>\n",
       "      <td>Female</td>\n",
       "      <td>57</td>\n",
       "      <td>Nurse</td>\n",
       "      <td>8.2</td>\n",
       "      <td>9</td>\n",
       "      <td>75</td>\n",
       "      <td>3</td>\n",
       "      <td>Overweight</td>\n",
       "      <td>140/95</td>\n",
       "      <td>68</td>\n",
       "      <td>7000</td>\n",
       "      <td>Sleep Apnea</td>\n",
       "    </tr>\n",
       "    <tr>\n",
       "      <th>348</th>\n",
       "      <td>349</td>\n",
       "      <td>Female</td>\n",
       "      <td>57</td>\n",
       "      <td>Nurse</td>\n",
       "      <td>8.2</td>\n",
       "      <td>9</td>\n",
       "      <td>75</td>\n",
       "      <td>3</td>\n",
       "      <td>Overweight</td>\n",
       "      <td>140/95</td>\n",
       "      <td>68</td>\n",
       "      <td>7000</td>\n",
       "      <td>Sleep Apnea</td>\n",
       "    </tr>\n",
       "    <tr>\n",
       "      <th>349</th>\n",
       "      <td>350</td>\n",
       "      <td>Female</td>\n",
       "      <td>57</td>\n",
       "      <td>Nurse</td>\n",
       "      <td>8.1</td>\n",
       "      <td>9</td>\n",
       "      <td>75</td>\n",
       "      <td>3</td>\n",
       "      <td>Overweight</td>\n",
       "      <td>140/95</td>\n",
       "      <td>68</td>\n",
       "      <td>7000</td>\n",
       "      <td>Sleep Apnea</td>\n",
       "    </tr>\n",
       "    <tr>\n",
       "      <th>350</th>\n",
       "      <td>351</td>\n",
       "      <td>Female</td>\n",
       "      <td>57</td>\n",
       "      <td>Nurse</td>\n",
       "      <td>8.1</td>\n",
       "      <td>9</td>\n",
       "      <td>75</td>\n",
       "      <td>3</td>\n",
       "      <td>Overweight</td>\n",
       "      <td>140/95</td>\n",
       "      <td>68</td>\n",
       "      <td>7000</td>\n",
       "      <td>Sleep Apnea</td>\n",
       "    </tr>\n",
       "    <tr>\n",
       "      <th>351</th>\n",
       "      <td>352</td>\n",
       "      <td>Female</td>\n",
       "      <td>57</td>\n",
       "      <td>Nurse</td>\n",
       "      <td>8.1</td>\n",
       "      <td>9</td>\n",
       "      <td>75</td>\n",
       "      <td>3</td>\n",
       "      <td>Overweight</td>\n",
       "      <td>140/95</td>\n",
       "      <td>68</td>\n",
       "      <td>7000</td>\n",
       "      <td>Sleep Apnea</td>\n",
       "    </tr>\n",
       "    <tr>\n",
       "      <th>352</th>\n",
       "      <td>353</td>\n",
       "      <td>Female</td>\n",
       "      <td>58</td>\n",
       "      <td>Nurse</td>\n",
       "      <td>8.0</td>\n",
       "      <td>9</td>\n",
       "      <td>75</td>\n",
       "      <td>3</td>\n",
       "      <td>Overweight</td>\n",
       "      <td>140/95</td>\n",
       "      <td>68</td>\n",
       "      <td>7000</td>\n",
       "      <td>Sleep Apnea</td>\n",
       "    </tr>\n",
       "    <tr>\n",
       "      <th>353</th>\n",
       "      <td>354</td>\n",
       "      <td>Female</td>\n",
       "      <td>58</td>\n",
       "      <td>Nurse</td>\n",
       "      <td>8.0</td>\n",
       "      <td>9</td>\n",
       "      <td>75</td>\n",
       "      <td>3</td>\n",
       "      <td>Overweight</td>\n",
       "      <td>140/95</td>\n",
       "      <td>68</td>\n",
       "      <td>7000</td>\n",
       "      <td>Sleep Apnea</td>\n",
       "    </tr>\n",
       "    <tr>\n",
       "      <th>354</th>\n",
       "      <td>355</td>\n",
       "      <td>Female</td>\n",
       "      <td>58</td>\n",
       "      <td>Nurse</td>\n",
       "      <td>8.0</td>\n",
       "      <td>9</td>\n",
       "      <td>75</td>\n",
       "      <td>3</td>\n",
       "      <td>Overweight</td>\n",
       "      <td>140/95</td>\n",
       "      <td>68</td>\n",
       "      <td>7000</td>\n",
       "      <td>Sleep Apnea</td>\n",
       "    </tr>\n",
       "    <tr>\n",
       "      <th>355</th>\n",
       "      <td>356</td>\n",
       "      <td>Female</td>\n",
       "      <td>58</td>\n",
       "      <td>Nurse</td>\n",
       "      <td>8.0</td>\n",
       "      <td>9</td>\n",
       "      <td>75</td>\n",
       "      <td>3</td>\n",
       "      <td>Overweight</td>\n",
       "      <td>140/95</td>\n",
       "      <td>68</td>\n",
       "      <td>7000</td>\n",
       "      <td>Sleep Apnea</td>\n",
       "    </tr>\n",
       "    <tr>\n",
       "      <th>356</th>\n",
       "      <td>357</td>\n",
       "      <td>Female</td>\n",
       "      <td>58</td>\n",
       "      <td>Nurse</td>\n",
       "      <td>8.0</td>\n",
       "      <td>9</td>\n",
       "      <td>75</td>\n",
       "      <td>3</td>\n",
       "      <td>Overweight</td>\n",
       "      <td>140/95</td>\n",
       "      <td>68</td>\n",
       "      <td>7000</td>\n",
       "      <td>Sleep Apnea</td>\n",
       "    </tr>\n",
       "    <tr>\n",
       "      <th>357</th>\n",
       "      <td>358</td>\n",
       "      <td>Female</td>\n",
       "      <td>58</td>\n",
       "      <td>Nurse</td>\n",
       "      <td>8.0</td>\n",
       "      <td>9</td>\n",
       "      <td>75</td>\n",
       "      <td>3</td>\n",
       "      <td>Overweight</td>\n",
       "      <td>140/95</td>\n",
       "      <td>68</td>\n",
       "      <td>7000</td>\n",
       "      <td>Sleep Apnea</td>\n",
       "    </tr>\n",
       "    <tr>\n",
       "      <th>360</th>\n",
       "      <td>361</td>\n",
       "      <td>Female</td>\n",
       "      <td>59</td>\n",
       "      <td>Nurse</td>\n",
       "      <td>8.2</td>\n",
       "      <td>9</td>\n",
       "      <td>75</td>\n",
       "      <td>3</td>\n",
       "      <td>Overweight</td>\n",
       "      <td>140/95</td>\n",
       "      <td>68</td>\n",
       "      <td>7000</td>\n",
       "      <td>Sleep Apnea</td>\n",
       "    </tr>\n",
       "    <tr>\n",
       "      <th>361</th>\n",
       "      <td>362</td>\n",
       "      <td>Female</td>\n",
       "      <td>59</td>\n",
       "      <td>Nurse</td>\n",
       "      <td>8.2</td>\n",
       "      <td>9</td>\n",
       "      <td>75</td>\n",
       "      <td>3</td>\n",
       "      <td>Overweight</td>\n",
       "      <td>140/95</td>\n",
       "      <td>68</td>\n",
       "      <td>7000</td>\n",
       "      <td>Sleep Apnea</td>\n",
       "    </tr>\n",
       "    <tr>\n",
       "      <th>362</th>\n",
       "      <td>363</td>\n",
       "      <td>Female</td>\n",
       "      <td>59</td>\n",
       "      <td>Nurse</td>\n",
       "      <td>8.2</td>\n",
       "      <td>9</td>\n",
       "      <td>75</td>\n",
       "      <td>3</td>\n",
       "      <td>Overweight</td>\n",
       "      <td>140/95</td>\n",
       "      <td>68</td>\n",
       "      <td>7000</td>\n",
       "      <td>Sleep Apnea</td>\n",
       "    </tr>\n",
       "    <tr>\n",
       "      <th>363</th>\n",
       "      <td>364</td>\n",
       "      <td>Female</td>\n",
       "      <td>59</td>\n",
       "      <td>Nurse</td>\n",
       "      <td>8.2</td>\n",
       "      <td>9</td>\n",
       "      <td>75</td>\n",
       "      <td>3</td>\n",
       "      <td>Overweight</td>\n",
       "      <td>140/95</td>\n",
       "      <td>68</td>\n",
       "      <td>7000</td>\n",
       "      <td>Sleep Apnea</td>\n",
       "    </tr>\n",
       "    <tr>\n",
       "      <th>364</th>\n",
       "      <td>365</td>\n",
       "      <td>Female</td>\n",
       "      <td>59</td>\n",
       "      <td>Nurse</td>\n",
       "      <td>8.0</td>\n",
       "      <td>9</td>\n",
       "      <td>75</td>\n",
       "      <td>3</td>\n",
       "      <td>Overweight</td>\n",
       "      <td>140/95</td>\n",
       "      <td>68</td>\n",
       "      <td>7000</td>\n",
       "      <td>Sleep Apnea</td>\n",
       "    </tr>\n",
       "    <tr>\n",
       "      <th>365</th>\n",
       "      <td>366</td>\n",
       "      <td>Female</td>\n",
       "      <td>59</td>\n",
       "      <td>Nurse</td>\n",
       "      <td>8.0</td>\n",
       "      <td>9</td>\n",
       "      <td>75</td>\n",
       "      <td>3</td>\n",
       "      <td>Overweight</td>\n",
       "      <td>140/95</td>\n",
       "      <td>68</td>\n",
       "      <td>7000</td>\n",
       "      <td>Sleep Apnea</td>\n",
       "    </tr>\n",
       "    <tr>\n",
       "      <th>366</th>\n",
       "      <td>367</td>\n",
       "      <td>Female</td>\n",
       "      <td>59</td>\n",
       "      <td>Nurse</td>\n",
       "      <td>8.1</td>\n",
       "      <td>9</td>\n",
       "      <td>75</td>\n",
       "      <td>3</td>\n",
       "      <td>Overweight</td>\n",
       "      <td>140/95</td>\n",
       "      <td>68</td>\n",
       "      <td>7000</td>\n",
       "      <td>Sleep Apnea</td>\n",
       "    </tr>\n",
       "    <tr>\n",
       "      <th>367</th>\n",
       "      <td>368</td>\n",
       "      <td>Female</td>\n",
       "      <td>59</td>\n",
       "      <td>Nurse</td>\n",
       "      <td>8.0</td>\n",
       "      <td>9</td>\n",
       "      <td>75</td>\n",
       "      <td>3</td>\n",
       "      <td>Overweight</td>\n",
       "      <td>140/95</td>\n",
       "      <td>68</td>\n",
       "      <td>7000</td>\n",
       "      <td>Sleep Apnea</td>\n",
       "    </tr>\n",
       "    <tr>\n",
       "      <th>368</th>\n",
       "      <td>369</td>\n",
       "      <td>Female</td>\n",
       "      <td>59</td>\n",
       "      <td>Nurse</td>\n",
       "      <td>8.1</td>\n",
       "      <td>9</td>\n",
       "      <td>75</td>\n",
       "      <td>3</td>\n",
       "      <td>Overweight</td>\n",
       "      <td>140/95</td>\n",
       "      <td>68</td>\n",
       "      <td>7000</td>\n",
       "      <td>Sleep Apnea</td>\n",
       "    </tr>\n",
       "    <tr>\n",
       "      <th>369</th>\n",
       "      <td>370</td>\n",
       "      <td>Female</td>\n",
       "      <td>59</td>\n",
       "      <td>Nurse</td>\n",
       "      <td>8.1</td>\n",
       "      <td>9</td>\n",
       "      <td>75</td>\n",
       "      <td>3</td>\n",
       "      <td>Overweight</td>\n",
       "      <td>140/95</td>\n",
       "      <td>68</td>\n",
       "      <td>7000</td>\n",
       "      <td>Sleep Apnea</td>\n",
       "    </tr>\n",
       "    <tr>\n",
       "      <th>370</th>\n",
       "      <td>371</td>\n",
       "      <td>Female</td>\n",
       "      <td>59</td>\n",
       "      <td>Nurse</td>\n",
       "      <td>8.0</td>\n",
       "      <td>9</td>\n",
       "      <td>75</td>\n",
       "      <td>3</td>\n",
       "      <td>Overweight</td>\n",
       "      <td>140/95</td>\n",
       "      <td>68</td>\n",
       "      <td>7000</td>\n",
       "      <td>Sleep Apnea</td>\n",
       "    </tr>\n",
       "    <tr>\n",
       "      <th>371</th>\n",
       "      <td>372</td>\n",
       "      <td>Female</td>\n",
       "      <td>59</td>\n",
       "      <td>Nurse</td>\n",
       "      <td>8.1</td>\n",
       "      <td>9</td>\n",
       "      <td>75</td>\n",
       "      <td>3</td>\n",
       "      <td>Overweight</td>\n",
       "      <td>140/95</td>\n",
       "      <td>68</td>\n",
       "      <td>7000</td>\n",
       "      <td>Sleep Apnea</td>\n",
       "    </tr>\n",
       "    <tr>\n",
       "      <th>372</th>\n",
       "      <td>373</td>\n",
       "      <td>Female</td>\n",
       "      <td>59</td>\n",
       "      <td>Nurse</td>\n",
       "      <td>8.1</td>\n",
       "      <td>9</td>\n",
       "      <td>75</td>\n",
       "      <td>3</td>\n",
       "      <td>Overweight</td>\n",
       "      <td>140/95</td>\n",
       "      <td>68</td>\n",
       "      <td>7000</td>\n",
       "      <td>Sleep Apnea</td>\n",
       "    </tr>\n",
       "    <tr>\n",
       "      <th>373</th>\n",
       "      <td>374</td>\n",
       "      <td>Female</td>\n",
       "      <td>59</td>\n",
       "      <td>Nurse</td>\n",
       "      <td>8.1</td>\n",
       "      <td>9</td>\n",
       "      <td>75</td>\n",
       "      <td>3</td>\n",
       "      <td>Overweight</td>\n",
       "      <td>140/95</td>\n",
       "      <td>68</td>\n",
       "      <td>7000</td>\n",
       "      <td>Sleep Apnea</td>\n",
       "    </tr>\n",
       "  </tbody>\n",
       "</table>\n",
       "</div>"
      ],
      "text/plain": [
       "     Person ID  Gender  Age            Occupation  Sleep Duration  \\\n",
       "3            4    Male   28  Sales Representative             5.9   \n",
       "4            5    Male   28  Sales Representative             5.9   \n",
       "16          17  Female   29                 Nurse             6.5   \n",
       "17          18    Male   29                Doctor             6.0   \n",
       "30          31  Female   30                 Nurse             6.4   \n",
       "49          50    Male   31                Doctor             7.7   \n",
       "80          81  Female   34             Scientist             5.8   \n",
       "81          82  Female   34             Scientist             5.8   \n",
       "93          94    Male   35                Lawyer             7.4   \n",
       "103        104    Male   36               Teacher             6.6   \n",
       "104        105  Female   36               Teacher             7.2   \n",
       "144        145    Male   38                Lawyer             7.1   \n",
       "145        146  Female   38                Lawyer             7.4   \n",
       "184        185  Female   42               Teacher             6.8   \n",
       "185        186  Female   42               Teacher             6.8   \n",
       "218        219    Male   43              Engineer             7.8   \n",
       "219        220    Male   43           Salesperson             6.5   \n",
       "265        266  Female   48                 Nurse             5.9   \n",
       "268        269  Female   49                 Nurse             6.0   \n",
       "269        270  Female   49                 Nurse             6.1   \n",
       "270        271  Female   49                 Nurse             6.1   \n",
       "271        272  Female   49                 Nurse             6.1   \n",
       "272        273  Female   49                 Nurse             6.1   \n",
       "273        274  Female   49                 Nurse             6.2   \n",
       "274        275  Female   49                 Nurse             6.2   \n",
       "275        276  Female   49                 Nurse             6.2   \n",
       "276        277    Male   49                Doctor             8.1   \n",
       "277        278    Male   49                Doctor             8.1   \n",
       "281        282  Female   50                 Nurse             6.1   \n",
       "282        283  Female   50                 Nurse             6.0   \n",
       "283        284  Female   50                 Nurse             6.0   \n",
       "284        285  Female   50                 Nurse             6.0   \n",
       "285        286  Female   50                 Nurse             6.0   \n",
       "286        287  Female   50                 Nurse             6.0   \n",
       "287        288  Female   50                 Nurse             6.0   \n",
       "288        289  Female   50                 Nurse             6.0   \n",
       "289        290  Female   50                 Nurse             6.1   \n",
       "290        291  Female   50                 Nurse             6.0   \n",
       "291        292  Female   50                 Nurse             6.1   \n",
       "292        293  Female   50                 Nurse             6.1   \n",
       "293        294  Female   50                 Nurse             6.0   \n",
       "294        295  Female   50                 Nurse             6.1   \n",
       "295        296  Female   50                 Nurse             6.0   \n",
       "296        297  Female   50                 Nurse             6.1   \n",
       "297        298  Female   50                 Nurse             6.1   \n",
       "303        304  Female   51                 Nurse             6.0   \n",
       "304        305  Female   51                 Nurse             6.1   \n",
       "305        306  Female   51                 Nurse             6.1   \n",
       "339        340  Female   55                 Nurse             8.1   \n",
       "340        341  Female   55                 Nurse             8.1   \n",
       "344        345  Female   57                 Nurse             8.2   \n",
       "345        346  Female   57                 Nurse             8.2   \n",
       "346        347  Female   57                 Nurse             8.2   \n",
       "347        348  Female   57                 Nurse             8.2   \n",
       "348        349  Female   57                 Nurse             8.2   \n",
       "349        350  Female   57                 Nurse             8.1   \n",
       "350        351  Female   57                 Nurse             8.1   \n",
       "351        352  Female   57                 Nurse             8.1   \n",
       "352        353  Female   58                 Nurse             8.0   \n",
       "353        354  Female   58                 Nurse             8.0   \n",
       "354        355  Female   58                 Nurse             8.0   \n",
       "355        356  Female   58                 Nurse             8.0   \n",
       "356        357  Female   58                 Nurse             8.0   \n",
       "357        358  Female   58                 Nurse             8.0   \n",
       "360        361  Female   59                 Nurse             8.2   \n",
       "361        362  Female   59                 Nurse             8.2   \n",
       "362        363  Female   59                 Nurse             8.2   \n",
       "363        364  Female   59                 Nurse             8.2   \n",
       "364        365  Female   59                 Nurse             8.0   \n",
       "365        366  Female   59                 Nurse             8.0   \n",
       "366        367  Female   59                 Nurse             8.1   \n",
       "367        368  Female   59                 Nurse             8.0   \n",
       "368        369  Female   59                 Nurse             8.1   \n",
       "369        370  Female   59                 Nurse             8.1   \n",
       "370        371  Female   59                 Nurse             8.0   \n",
       "371        372  Female   59                 Nurse             8.1   \n",
       "372        373  Female   59                 Nurse             8.1   \n",
       "373        374  Female   59                 Nurse             8.1   \n",
       "\n",
       "     Quality of Sleep  Physical Activity Level  Stress Level   BMI Category  \\\n",
       "3                   4                       30             8          Obese   \n",
       "4                   4                       30             8          Obese   \n",
       "16                  5                       40             7  Normal Weight   \n",
       "17                  6                       30             8         Normal   \n",
       "30                  5                       35             7  Normal Weight   \n",
       "49                  7                       75             6         Normal   \n",
       "80                  4                       32             8     Overweight   \n",
       "81                  4                       32             8     Overweight   \n",
       "93                  7                       60             5          Obese   \n",
       "103                 5                       35             7     Overweight   \n",
       "104                 8                       60             4         Normal   \n",
       "144                 8                       60             5         Normal   \n",
       "145                 7                       60             5          Obese   \n",
       "184                 6                       45             7     Overweight   \n",
       "185                 6                       45             7     Overweight   \n",
       "218                 8                       90             5         Normal   \n",
       "219                 6                       45             7     Overweight   \n",
       "265                 6                       90             8     Overweight   \n",
       "268                 6                       90             8     Overweight   \n",
       "269                 6                       90             8     Overweight   \n",
       "270                 6                       90             8     Overweight   \n",
       "271                 6                       90             8     Overweight   \n",
       "272                 6                       90             8     Overweight   \n",
       "273                 6                       90             8     Overweight   \n",
       "274                 6                       90             8     Overweight   \n",
       "275                 6                       90             8     Overweight   \n",
       "276                 9                       85             3          Obese   \n",
       "277                 9                       85             3          Obese   \n",
       "281                 6                       90             8     Overweight   \n",
       "282                 6                       90             8     Overweight   \n",
       "283                 6                       90             8     Overweight   \n",
       "284                 6                       90             8     Overweight   \n",
       "285                 6                       90             8     Overweight   \n",
       "286                 6                       90             8     Overweight   \n",
       "287                 6                       90             8     Overweight   \n",
       "288                 6                       90             8     Overweight   \n",
       "289                 6                       90             8     Overweight   \n",
       "290                 6                       90             8     Overweight   \n",
       "291                 6                       90             8     Overweight   \n",
       "292                 6                       90             8     Overweight   \n",
       "293                 6                       90             8     Overweight   \n",
       "294                 6                       90             8     Overweight   \n",
       "295                 6                       90             8     Overweight   \n",
       "296                 6                       90             8     Overweight   \n",
       "297                 6                       90             8     Overweight   \n",
       "303                 6                       90             8     Overweight   \n",
       "304                 6                       90             8     Overweight   \n",
       "305                 6                       90             8     Overweight   \n",
       "339                 9                       75             4     Overweight   \n",
       "340                 9                       75             4     Overweight   \n",
       "344                 9                       75             3     Overweight   \n",
       "345                 9                       75             3     Overweight   \n",
       "346                 9                       75             3     Overweight   \n",
       "347                 9                       75             3     Overweight   \n",
       "348                 9                       75             3     Overweight   \n",
       "349                 9                       75             3     Overweight   \n",
       "350                 9                       75             3     Overweight   \n",
       "351                 9                       75             3     Overweight   \n",
       "352                 9                       75             3     Overweight   \n",
       "353                 9                       75             3     Overweight   \n",
       "354                 9                       75             3     Overweight   \n",
       "355                 9                       75             3     Overweight   \n",
       "356                 9                       75             3     Overweight   \n",
       "357                 9                       75             3     Overweight   \n",
       "360                 9                       75             3     Overweight   \n",
       "361                 9                       75             3     Overweight   \n",
       "362                 9                       75             3     Overweight   \n",
       "363                 9                       75             3     Overweight   \n",
       "364                 9                       75             3     Overweight   \n",
       "365                 9                       75             3     Overweight   \n",
       "366                 9                       75             3     Overweight   \n",
       "367                 9                       75             3     Overweight   \n",
       "368                 9                       75             3     Overweight   \n",
       "369                 9                       75             3     Overweight   \n",
       "370                 9                       75             3     Overweight   \n",
       "371                 9                       75             3     Overweight   \n",
       "372                 9                       75             3     Overweight   \n",
       "373                 9                       75             3     Overweight   \n",
       "\n",
       "    Blood Pressure  Heart Rate  Daily Steps Sleep Disorder  \n",
       "3           140/90          85         3000    Sleep Apnea  \n",
       "4           140/90          85         3000    Sleep Apnea  \n",
       "16          132/87          80         4000    Sleep Apnea  \n",
       "17          120/80          70         8000    Sleep Apnea  \n",
       "30          130/86          78         4100    Sleep Apnea  \n",
       "49          120/80          70         8000    Sleep Apnea  \n",
       "80          131/86          81         5200    Sleep Apnea  \n",
       "81          131/86          81         5200    Sleep Apnea  \n",
       "93          135/88          84         3300    Sleep Apnea  \n",
       "103         129/84          74         4800    Sleep Apnea  \n",
       "104         115/75          68         7000    Sleep Apnea  \n",
       "144         130/85          68         8000    Sleep Apnea  \n",
       "145         135/88          84         3300    Sleep Apnea  \n",
       "184         130/85          78         5000    Sleep Apnea  \n",
       "185         130/85          78         5000    Sleep Apnea  \n",
       "218         130/85          70         8000    Sleep Apnea  \n",
       "219         130/85          72         6000    Sleep Apnea  \n",
       "265         140/95          75        10000    Sleep Apnea  \n",
       "268         140/95          75        10000    Sleep Apnea  \n",
       "269         140/95          75        10000    Sleep Apnea  \n",
       "270         140/95          75        10000    Sleep Apnea  \n",
       "271         140/95          75        10000    Sleep Apnea  \n",
       "272         140/95          75        10000    Sleep Apnea  \n",
       "273         140/95          75        10000    Sleep Apnea  \n",
       "274         140/95          75        10000    Sleep Apnea  \n",
       "275         140/95          75        10000    Sleep Apnea  \n",
       "276         139/91          86         3700    Sleep Apnea  \n",
       "277         139/91          86         3700    Sleep Apnea  \n",
       "281         140/95          75        10000    Sleep Apnea  \n",
       "282         140/95          75        10000    Sleep Apnea  \n",
       "283         140/95          75        10000    Sleep Apnea  \n",
       "284         140/95          75        10000    Sleep Apnea  \n",
       "285         140/95          75        10000    Sleep Apnea  \n",
       "286         140/95          75        10000    Sleep Apnea  \n",
       "287         140/95          75        10000    Sleep Apnea  \n",
       "288         140/95          75        10000    Sleep Apnea  \n",
       "289         140/95          75        10000    Sleep Apnea  \n",
       "290         140/95          75        10000    Sleep Apnea  \n",
       "291         140/95          75        10000    Sleep Apnea  \n",
       "292         140/95          75        10000    Sleep Apnea  \n",
       "293         140/95          75        10000    Sleep Apnea  \n",
       "294         140/95          75        10000    Sleep Apnea  \n",
       "295         140/95          75        10000    Sleep Apnea  \n",
       "296         140/95          75        10000    Sleep Apnea  \n",
       "297         140/95          75        10000    Sleep Apnea  \n",
       "303         140/95          75        10000    Sleep Apnea  \n",
       "304         140/95          75        10000    Sleep Apnea  \n",
       "305         140/95          75        10000    Sleep Apnea  \n",
       "339         140/95          72         5000    Sleep Apnea  \n",
       "340         140/95          72         5000    Sleep Apnea  \n",
       "344         140/95          68         7000    Sleep Apnea  \n",
       "345         140/95          68         7000    Sleep Apnea  \n",
       "346         140/95          68         7000    Sleep Apnea  \n",
       "347         140/95          68         7000    Sleep Apnea  \n",
       "348         140/95          68         7000    Sleep Apnea  \n",
       "349         140/95          68         7000    Sleep Apnea  \n",
       "350         140/95          68         7000    Sleep Apnea  \n",
       "351         140/95          68         7000    Sleep Apnea  \n",
       "352         140/95          68         7000    Sleep Apnea  \n",
       "353         140/95          68         7000    Sleep Apnea  \n",
       "354         140/95          68         7000    Sleep Apnea  \n",
       "355         140/95          68         7000    Sleep Apnea  \n",
       "356         140/95          68         7000    Sleep Apnea  \n",
       "357         140/95          68         7000    Sleep Apnea  \n",
       "360         140/95          68         7000    Sleep Apnea  \n",
       "361         140/95          68         7000    Sleep Apnea  \n",
       "362         140/95          68         7000    Sleep Apnea  \n",
       "363         140/95          68         7000    Sleep Apnea  \n",
       "364         140/95          68         7000    Sleep Apnea  \n",
       "365         140/95          68         7000    Sleep Apnea  \n",
       "366         140/95          68         7000    Sleep Apnea  \n",
       "367         140/95          68         7000    Sleep Apnea  \n",
       "368         140/95          68         7000    Sleep Apnea  \n",
       "369         140/95          68         7000    Sleep Apnea  \n",
       "370         140/95          68         7000    Sleep Apnea  \n",
       "371         140/95          68         7000    Sleep Apnea  \n",
       "372         140/95          68         7000    Sleep Apnea  \n",
       "373         140/95          68         7000    Sleep Apnea  "
      ]
     },
     "execution_count": 63,
     "metadata": {},
     "output_type": "execute_result"
    }
   ],
   "source": [
    "sleep_apnea = df[df['Sleep Disorder'] == 'Sleep Apnea']\n",
    "sleep_apnea"
   ]
  },
  {
   "cell_type": "code",
   "execution_count": 64,
   "id": "198bc429-ea7d-43bd-b05b-7436ad11dfb7",
   "metadata": {},
   "outputs": [
    {
     "data": {
      "text/plain": [
       "<Axes: xlabel='Occupation'>"
      ]
     },
     "execution_count": 64,
     "metadata": {},
     "output_type": "execute_result"
    },
    {
     "data": {
      "image/png": "[encoded data removed]",
      "text/plain": [
       "<Figure size 640x480 with 1 Axes>"
      ]
     },
     "metadata": {},
     "output_type": "display_data"
    }
   ],
   "source": [
    "sleep_apnea.groupby('Occupation').size().sort_values(ascending=False).plot(kind='bar')"
   ]
  },
  {
   "cell_type": "raw",
   "id": "24f33960-bb85-414f-aa28-1cf9762d9932",
   "metadata": {},
   "source": [
    "Analyzing Nurse:\n",
    "Conclusions:\n",
    "Mostly nurses are overweight in BMI category.\n",
    "Total 73 nurses are present in dataset.\n",
    "Their stress level is above average of all the occupations.\n",
    "Every nurse suffers from high blood pressure, it may be because of their jobs, which is quite hectic in nature.\n",
    "Their are only three nurses that are into Normal weight BMI category and does not suffer from any sleep Disorder.\n",
    "Most of the nurses have high daily steps , it may be beacause of their occupation."
   ]
  },
  {
   "cell_type": "code",
   "execution_count": 65,
   "id": "e3f3f00c-7c67-47a0-a42f-d5501acad295",
   "metadata": {},
   "outputs": [
    {
     "data": {
      "text/plain": [
       "<Axes: xlabel='Occupation,BMI Category'>"
      ]
     },
     "execution_count": 65,
     "metadata": {},
     "output_type": "execute_result"
    },
    {
     "data": {
      "image/png": "[encoded data removed]",
      "text/plain": [
       "<Figure size 640x480 with 1 Axes>"
      ]
     },
     "metadata": {},
     "output_type": "display_data"
    }
   ],
   "source": [
    "df.groupby('Occupation')['BMI Category'].value_counts().plot(kind='bar')"
   ]
  },
  {
   "cell_type": "code",
   "execution_count": 66,
   "id": "63517b7d-368c-4fed-a52d-a70f3e469d01",
   "metadata": {},
   "outputs": [
    {
     "ename": "NameError",
     "evalue": "name 'nurses' is not defined",
     "output_type": "error",
     "traceback": [
      "\u001b[1;31m---------------------------------------------------------------------------\u001b[0m",
      "\u001b[1;31mNameError\u001b[0m                                 Traceback (most recent call last)",
      "Cell \u001b[1;32mIn[66], line 1\u001b[0m\n\u001b[1;32m----> 1\u001b[0m \u001b[43mnurses\u001b[49m[\u001b[38;5;124m'\u001b[39m\u001b[38;5;124mBMI Category\u001b[39m\u001b[38;5;124m'\u001b[39m]\u001b[38;5;241m.\u001b[39mvalue_counts()\u001b[38;5;241m.\u001b[39mplot(kind\u001b[38;5;241m=\u001b[39m\u001b[38;5;124m'\u001b[39m\u001b[38;5;124mbar\u001b[39m\u001b[38;5;124m'\u001b[39m)\n",
      "\u001b[1;31mNameError\u001b[0m: name 'nurses' is not defined"
     ]
    }
   ],
   "source": [
    "nurses['BMI Category'].value_counts().plot(kind='bar')"
   ]
  },
  {
   "cell_type": "code",
   "execution_count": null,
   "id": "1034ec12-4798-4ac8-a58b-e5beb16433b2",
   "metadata": {},
   "outputs": [],
   "source": [
    "nurses = df[df['Occupation'] == 'Nurse']\n",
    "nurses"
   ]
  },
  {
   "cell_type": "code",
   "execution_count": null,
   "id": "f23a23e9-0f27-4436-9439-928cdba4a74c",
   "metadata": {},
   "outputs": [],
   "source": [
    "nurses[(nurses['BMI Category'] == 'Normal Weight')]"
   ]
  },
  {
   "cell_type": "code",
   "execution_count": null,
   "id": "442f076a-5820-47b3-81d8-f593be5d0e61",
   "metadata": {},
   "outputs": [],
   "source": [
    "nurses.groupby('BMI Category').size()"
   ]
  },
  {
   "cell_type": "code",
   "execution_count": null,
   "id": "c64e7a90-8ae6-4130-a146-945d0f918957",
   "metadata": {},
   "outputs": [],
   "source": [
    "nurses['Stress Level'].mean()"
   ]
  },
  {
   "cell_type": "code",
   "execution_count": null,
   "id": "80620936-a0a5-49c2-a9ae-e94f06c6ddeb",
   "metadata": {},
   "outputs": [],
   "source": [
    "nurses[nurses['Age'] > 50]"
   ]
  },
  {
   "cell_type": "code",
   "execution_count": null,
   "id": "83003900-94ec-438f-8046-993efef0088a",
   "metadata": {},
   "outputs": [],
   "source": [
    "insomnia = df[df['Sleep Disorder'] == 'Insomnia']\n",
    "insomnia"
   ]
  },
  {
   "cell_type": "code",
   "execution_count": null,
   "id": "73278013-c1c8-4643-90d2-a13d2afaf119",
   "metadata": {},
   "outputs": [],
   "source": [
    "insomnia.groupby('Occupation').size().sort_values(ascending=False).plot(kind='bar')"
   ]
  },
  {
   "cell_type": "raw",
   "id": "9a4b4d8d-6f1a-4521-9797-65920de486de",
   "metadata": {},
   "source": [
    "Analyzing Salesperson:\n",
    "Conclusion:\n",
    "Most of the salesperson suffers from Insomnia.\n",
    "Every salesperson suffers from high blood pressure, which could be due to the problem of insomnia.\n",
    "Every salesperson belongs to overweight category.\n",
    "All of the salesperson are above the age of 40 years.\n",
    "A salesperson with ID 220 suffers from Sleep apnea.\n",
    "Two salesperson with ID - 249 and 250 does not suffer from any sleep disorder but their sleep duration is below the average also have low quality of sleep and high stress level."
   ]
  },
  {
   "cell_type": "code",
   "execution_count": null,
   "id": "a52a8ca0-dec9-49ff-8b1f-d546b701674a",
   "metadata": {},
   "outputs": [],
   "source": [
    "df[df['Sleep Disorder'] == 'Insomnia'].groupby('Occupation')['Sleep Disorder'].size().plot(kind='bar')"
   ]
  },
  {
   "cell_type": "code",
   "execution_count": null,
   "id": "66b08d2b-1188-40e9-8366-6e6738ee2fe0",
   "metadata": {},
   "outputs": [],
   "source": [
    "salesperson['Blood Pressure'].value_counts().plot(kind='bar')"
   ]
  },
  {
   "cell_type": "code",
   "execution_count": null,
   "id": "722fc5bb-c0a9-4f95-bfcb-acd6caedb001",
   "metadata": {},
   "outputs": [],
   "source": [
    "salesperson = df[df['Occupation'] == 'Salesperson']\n",
    "salesperson"
   ]
  },
  {
   "cell_type": "code",
   "execution_count": null,
   "id": "a0e3f831-eca6-4268-bd9e-328998e257ea",
   "metadata": {},
   "outputs": [],
   "source": [
    "df[df['Daily Steps'] > 9000]"
   ]
  },
  {
   "cell_type": "code",
   "execution_count": null,
   "id": "3e681881-1a85-47de-941b-c9963430a0f4",
   "metadata": {},
   "outputs": [],
   "source": [
    "df[df['BMI Category'] == 'Overweight']"
   ]
  },
  {
   "cell_type": "code",
   "execution_count": null,
   "id": "00be78d0-a6bc-4bd0-9563-18a3e7fa0284",
   "metadata": {},
   "outputs": [],
   "source": [
    "df.groupby(['BMI Category','Sleep Disorder']).size()"
   ]
  },
  {
   "cell_type": "code",
   "execution_count": null,
   "id": "f5a437a0-9071-47e4-9462-ff37ff24a980",
   "metadata": {},
   "outputs": [],
   "source": [
    "df.groupby('Occupation')['Age'].mean().plot(kind='bar')"
   ]
  },
  {
   "cell_type": "code",
   "execution_count": null,
   "id": "85784884-634d-4edd-8624-00d0884f684c",
   "metadata": {},
   "outputs": [],
   "source": [
    "salesperson.describe()"
   ]
  },
  {
   "cell_type": "code",
   "execution_count": null,
   "id": "13bea2d0-a070-46db-b7b3-c74313dfa595",
   "metadata": {},
   "outputs": [],
   "source": [
    "accountants =  df[df['Occupation'] == 'Accountant']\n",
    "accountants"
   ]
  },
  {
   "cell_type": "raw",
   "id": "4eea47a8-bfe8-435f-8061-9ac685efa797",
   "metadata": {},
   "source": [
    "Conclusions:\n",
    "There are total of 37 accountants in the dataset.\n",
    "7 accountants suffers from Insomnia while none of them have sleep apnea.\n"
   ]
  },
  {
   "cell_type": "code",
   "execution_count": null,
   "id": "b08d201e-5123-4633-95a7-f8c0b82d4d88",
   "metadata": {},
   "outputs": [],
   "source": [
    "accountants_insomnia = accountants[accountants['Sleep Disorder'] == 'Insomnia']\n",
    "accountants_insomnia"
   ]
  },
  {
   "cell_type": "code",
   "execution_count": null,
   "id": "b5e342e8-0429-4bbd-a185-4d053c6cf0db",
   "metadata": {},
   "outputs": [],
   "source": [
    "accountants_insomnia.describe()"
   ]
  },
  {
   "cell_type": "code",
   "execution_count": null,
   "id": "274c80e2-ac83-477c-8f56-206a1a3495ac",
   "metadata": {},
   "outputs": [],
   "source": [
    "doctors = df[df['Occupation'] == 'Doctor']\n",
    "doctors"
   ]
  },
  {
   "cell_type": "code",
   "execution_count": null,
   "id": "0273297a-876b-4e05-8bf9-6f253d85d127",
   "metadata": {},
   "outputs": [],
   "source": [
    "doctors['Gender'].value_counts().plot(kind='bar')"
   ]
  },
  {
   "cell_type": "code",
   "execution_count": null,
   "id": "06420b75-4c4e-494e-8b4e-44ff9d5c6f7b",
   "metadata": {},
   "outputs": [],
   "source": [
    "doctors[doctors['Physical Activity Level'] < 40]"
   ]
  },
  {
   "cell_type": "code",
   "execution_count": null,
   "id": "b9aca7a1-3d7a-403f-80f6-4e4daf68065a",
   "metadata": {},
   "outputs": [],
   "source": [
    "doctors['Stress Level'].mean()"
   ]
  },
  {
   "cell_type": "code",
   "execution_count": null,
   "id": "bbe48e80-4ec3-4584-ac4d-5f82cc828692",
   "metadata": {},
   "outputs": [],
   "source": [
    "doctors[doctors['Sleep Disorder'] == 'Insomnia']"
   ]
  },
  {
   "cell_type": "code",
   "execution_count": null,
   "id": "2c77a199-2624-4afe-89d6-38879987ab2f",
   "metadata": {},
   "outputs": [],
   "source": [
    "doctors[doctors['Sleep Disorder'] == 'Sleep Apnea']"
   ]
  },
  {
   "cell_type": "code",
   "execution_count": null,
   "id": "9b4275a0-6bc5-4ea2-a6ad-31b667888626",
   "metadata": {},
   "outputs": [],
   "source": [
    "doctors.groupby('Sleep Disorder').size()"
   ]
  },
  {
   "cell_type": "code",
   "execution_count": null,
   "id": "b3a03702-3e67-4de5-9aa2-b894484d82a1",
   "metadata": {},
   "outputs": [],
   "source": [
    "df[df['Occupation'] == 'Lawyer']['Gender'].value_counts()"
   ]
  },
  {
   "cell_type": "code",
   "execution_count": null,
   "id": "43af3a64-4293-4a56-b6a1-e5f7b29b4b85",
   "metadata": {},
   "outputs": [],
   "source": [
    "lawyers = df[df['Occupation'] == 'Lawyer']\n",
    "lawyers"
   ]
  },
  {
   "cell_type": "code",
   "execution_count": null,
   "id": "31279cd0-8a43-4400-9a67-cd63842b694c",
   "metadata": {},
   "outputs": [],
   "source": [
    "df.groupby('Occupation')['Stress Level'].size().plot(kind='bar')"
   ]
  },
  {
   "cell_type": "code",
   "execution_count": null,
   "id": "6fa8f571-649e-4f37-8f1c-fe4f8f6b2588",
   "metadata": {},
   "outputs": [],
   "source": [
    "lawyers[lawyers['Sleep Disorder'] == 'Insomnia']"
   ]
  },
  {
   "cell_type": "code",
   "execution_count": null,
   "id": "6773440f-3490-4e19-85f1-d6d3b0d31905",
   "metadata": {},
   "outputs": [],
   "source": [
    "lawyers[lawyers['Sleep Disorder'] == 'Sleep Apnea']"
   ]
  },
  {
   "cell_type": "code",
   "execution_count": null,
   "id": "887c72a5-839c-4e96-8013-e67d505510b0",
   "metadata": {},
   "outputs": [],
   "source": [
    "managers = df[df['Occupation'] == 'Manager']\n",
    "managers"
   ]
  },
  {
   "cell_type": "code",
   "execution_count": null,
   "id": "c11a7893-3023-4d67-b413-d2ea5af236dd",
   "metadata": {},
   "outputs": [],
   "source": [
    "doctors['BMI Category'].value_counts()"
   ]
  },
  {
   "cell_type": "code",
   "execution_count": null,
   "id": "cc1ac64b-c4cd-485e-9fda-4bf4467fe669",
   "metadata": {},
   "outputs": [],
   "source": [
    "salesr = df[df['Occupation'] == 'Sales Representative']\n",
    "salesr"
   ]
  },
  {
   "cell_type": "code",
   "execution_count": 67,
   "id": "5d91d4c1-ed33-4cd6-9497-045688fcc6aa",
   "metadata": {},
   "outputs": [
    {
     "data": {
      "text/html": [
       "<div>\n",
       "<style scoped>\n",
       "    .dataframe tbody tr th:only-of-type {\n",
       "        vertical-align: middle;\n",
       "    }\n",
       "\n",
       "    .dataframe tbody tr th {\n",
       "        vertical-align: top;\n",
       "    }\n",
       "\n",
       "    .dataframe thead th {\n",
       "        text-align: right;\n",
       "    }\n",
       "</style>\n",
       "<table border=\"1\" class=\"dataframe\">\n",
       "  <thead>\n",
       "    <tr style=\"text-align: right;\">\n",
       "      <th></th>\n",
       "      <th>Person ID</th>\n",
       "      <th>Gender</th>\n",
       "      <th>Age</th>\n",
       "      <th>Occupation</th>\n",
       "      <th>Sleep Duration</th>\n",
       "      <th>Quality of Sleep</th>\n",
       "      <th>Physical Activity Level</th>\n",
       "      <th>Stress Level</th>\n",
       "      <th>BMI Category</th>\n",
       "      <th>Blood Pressure</th>\n",
       "      <th>Heart Rate</th>\n",
       "      <th>Daily Steps</th>\n",
       "      <th>Sleep Disorder</th>\n",
       "    </tr>\n",
       "  </thead>\n",
       "  <tbody>\n",
       "    <tr>\n",
       "      <th>68</th>\n",
       "      <td>69</td>\n",
       "      <td>Female</td>\n",
       "      <td>33</td>\n",
       "      <td>Scientist</td>\n",
       "      <td>6.2</td>\n",
       "      <td>6</td>\n",
       "      <td>50</td>\n",
       "      <td>6</td>\n",
       "      <td>Overweight</td>\n",
       "      <td>128/85</td>\n",
       "      <td>76</td>\n",
       "      <td>5500</td>\n",
       "      <td>NaN</td>\n",
       "    </tr>\n",
       "    <tr>\n",
       "      <th>69</th>\n",
       "      <td>70</td>\n",
       "      <td>Female</td>\n",
       "      <td>33</td>\n",
       "      <td>Scientist</td>\n",
       "      <td>6.2</td>\n",
       "      <td>6</td>\n",
       "      <td>50</td>\n",
       "      <td>6</td>\n",
       "      <td>Overweight</td>\n",
       "      <td>128/85</td>\n",
       "      <td>76</td>\n",
       "      <td>5500</td>\n",
       "      <td>NaN</td>\n",
       "    </tr>\n",
       "    <tr>\n",
       "      <th>80</th>\n",
       "      <td>81</td>\n",
       "      <td>Female</td>\n",
       "      <td>34</td>\n",
       "      <td>Scientist</td>\n",
       "      <td>5.8</td>\n",
       "      <td>4</td>\n",
       "      <td>32</td>\n",
       "      <td>8</td>\n",
       "      <td>Overweight</td>\n",
       "      <td>131/86</td>\n",
       "      <td>81</td>\n",
       "      <td>5200</td>\n",
       "      <td>Sleep Apnea</td>\n",
       "    </tr>\n",
       "    <tr>\n",
       "      <th>81</th>\n",
       "      <td>82</td>\n",
       "      <td>Female</td>\n",
       "      <td>34</td>\n",
       "      <td>Scientist</td>\n",
       "      <td>5.8</td>\n",
       "      <td>4</td>\n",
       "      <td>32</td>\n",
       "      <td>8</td>\n",
       "      <td>Overweight</td>\n",
       "      <td>131/86</td>\n",
       "      <td>81</td>\n",
       "      <td>5200</td>\n",
       "      <td>Sleep Apnea</td>\n",
       "    </tr>\n",
       "  </tbody>\n",
       "</table>\n",
       "</div>"
      ],
      "text/plain": [
       "    Person ID  Gender  Age Occupation  Sleep Duration  Quality of Sleep  \\\n",
       "68         69  Female   33  Scientist             6.2                 6   \n",
       "69         70  Female   33  Scientist             6.2                 6   \n",
       "80         81  Female   34  Scientist             5.8                 4   \n",
       "81         82  Female   34  Scientist             5.8                 4   \n",
       "\n",
       "    Physical Activity Level  Stress Level BMI Category Blood Pressure  \\\n",
       "68                       50             6   Overweight         128/85   \n",
       "69                       50             6   Overweight         128/85   \n",
       "80                       32             8   Overweight         131/86   \n",
       "81                       32             8   Overweight         131/86   \n",
       "\n",
       "    Heart Rate  Daily Steps Sleep Disorder  \n",
       "68          76         5500            NaN  \n",
       "69          76         5500            NaN  \n",
       "80          81         5200    Sleep Apnea  \n",
       "81          81         5200    Sleep Apnea  "
      ]
     },
     "execution_count": 67,
     "metadata": {},
     "output_type": "execute_result"
    }
   ],
   "source": [
    "df[df['Occupation'] == 'Scientist']"
   ]
  },
  {
   "cell_type": "code",
   "execution_count": 68,
   "id": "da55b568-2d62-4ebf-8bea-30ab71bb2f22",
   "metadata": {},
   "outputs": [
    {
     "data": {
      "text/html": [
       "<div>\n",
       "<style scoped>\n",
       "    .dataframe tbody tr th:only-of-type {\n",
       "        vertical-align: middle;\n",
       "    }\n",
       "\n",
       "    .dataframe tbody tr th {\n",
       "        vertical-align: top;\n",
       "    }\n",
       "\n",
       "    .dataframe thead th {\n",
       "        text-align: right;\n",
       "    }\n",
       "</style>\n",
       "<table border=\"1\" class=\"dataframe\">\n",
       "  <thead>\n",
       "    <tr style=\"text-align: right;\">\n",
       "      <th></th>\n",
       "      <th>Person ID</th>\n",
       "      <th>Gender</th>\n",
       "      <th>Age</th>\n",
       "      <th>Occupation</th>\n",
       "      <th>Sleep Duration</th>\n",
       "      <th>Quality of Sleep</th>\n",
       "      <th>Physical Activity Level</th>\n",
       "      <th>Stress Level</th>\n",
       "      <th>BMI Category</th>\n",
       "      <th>Blood Pressure</th>\n",
       "      <th>Heart Rate</th>\n",
       "      <th>Daily Steps</th>\n",
       "      <th>Sleep Disorder</th>\n",
       "    </tr>\n",
       "  </thead>\n",
       "  <tbody>\n",
       "    <tr>\n",
       "      <th>0</th>\n",
       "      <td>1</td>\n",
       "      <td>Male</td>\n",
       "      <td>27</td>\n",
       "      <td>Software Engineer</td>\n",
       "      <td>6.1</td>\n",
       "      <td>6</td>\n",
       "      <td>42</td>\n",
       "      <td>6</td>\n",
       "      <td>Overweight</td>\n",
       "      <td>126/83</td>\n",
       "      <td>77</td>\n",
       "      <td>4200</td>\n",
       "      <td>NaN</td>\n",
       "    </tr>\n",
       "    <tr>\n",
       "      <th>5</th>\n",
       "      <td>6</td>\n",
       "      <td>Male</td>\n",
       "      <td>28</td>\n",
       "      <td>Software Engineer</td>\n",
       "      <td>5.9</td>\n",
       "      <td>4</td>\n",
       "      <td>30</td>\n",
       "      <td>8</td>\n",
       "      <td>Obese</td>\n",
       "      <td>140/90</td>\n",
       "      <td>85</td>\n",
       "      <td>3000</td>\n",
       "      <td>Insomnia</td>\n",
       "    </tr>\n",
       "    <tr>\n",
       "      <th>84</th>\n",
       "      <td>85</td>\n",
       "      <td>Male</td>\n",
       "      <td>35</td>\n",
       "      <td>Software Engineer</td>\n",
       "      <td>7.5</td>\n",
       "      <td>8</td>\n",
       "      <td>60</td>\n",
       "      <td>5</td>\n",
       "      <td>Normal Weight</td>\n",
       "      <td>120/80</td>\n",
       "      <td>70</td>\n",
       "      <td>8000</td>\n",
       "      <td>NaN</td>\n",
       "    </tr>\n",
       "    <tr>\n",
       "      <th>92</th>\n",
       "      <td>93</td>\n",
       "      <td>Male</td>\n",
       "      <td>35</td>\n",
       "      <td>Software Engineer</td>\n",
       "      <td>7.5</td>\n",
       "      <td>8</td>\n",
       "      <td>60</td>\n",
       "      <td>5</td>\n",
       "      <td>Normal Weight</td>\n",
       "      <td>120/80</td>\n",
       "      <td>70</td>\n",
       "      <td>8000</td>\n",
       "      <td>NaN</td>\n",
       "    </tr>\n",
       "  </tbody>\n",
       "</table>\n",
       "</div>"
      ],
      "text/plain": [
       "    Person ID Gender  Age         Occupation  Sleep Duration  \\\n",
       "0           1   Male   27  Software Engineer             6.1   \n",
       "5           6   Male   28  Software Engineer             5.9   \n",
       "84         85   Male   35  Software Engineer             7.5   \n",
       "92         93   Male   35  Software Engineer             7.5   \n",
       "\n",
       "    Quality of Sleep  Physical Activity Level  Stress Level   BMI Category  \\\n",
       "0                  6                       42             6     Overweight   \n",
       "5                  4                       30             8          Obese   \n",
       "84                 8                       60             5  Normal Weight   \n",
       "92                 8                       60             5  Normal Weight   \n",
       "\n",
       "   Blood Pressure  Heart Rate  Daily Steps Sleep Disorder  \n",
       "0          126/83          77         4200            NaN  \n",
       "5          140/90          85         3000       Insomnia  \n",
       "84         120/80          70         8000            NaN  \n",
       "92         120/80          70         8000            NaN  "
      ]
     },
     "execution_count": 68,
     "metadata": {},
     "output_type": "execute_result"
    }
   ],
   "source": [
    "df[df['Occupation'] == 'Software Engineer']"
   ]
  },
  {
   "cell_type": "code",
   "execution_count": 70,
   "id": "13e27060-86f5-4156-bccc-c5d15f81e40f",
   "metadata": {},
   "outputs": [
    {
     "data": {
      "text/html": [
       "<div>\n",
       "<style scoped>\n",
       "    .dataframe tbody tr th:only-of-type {\n",
       "        vertical-align: middle;\n",
       "    }\n",
       "\n",
       "    .dataframe tbody tr th {\n",
       "        vertical-align: top;\n",
       "    }\n",
       "\n",
       "    .dataframe thead th {\n",
       "        text-align: right;\n",
       "    }\n",
       "</style>\n",
       "<table border=\"1\" class=\"dataframe\">\n",
       "  <thead>\n",
       "    <tr style=\"text-align: right;\">\n",
       "      <th></th>\n",
       "      <th>Person ID</th>\n",
       "      <th>Gender</th>\n",
       "      <th>Age</th>\n",
       "      <th>Occupation</th>\n",
       "      <th>Sleep Duration</th>\n",
       "      <th>Quality of Sleep</th>\n",
       "      <th>Physical Activity Level</th>\n",
       "      <th>Stress Level</th>\n",
       "      <th>BMI Category</th>\n",
       "      <th>Blood Pressure</th>\n",
       "      <th>Heart Rate</th>\n",
       "      <th>Daily Steps</th>\n",
       "      <th>Sleep Disorder</th>\n",
       "    </tr>\n",
       "  </thead>\n",
       "  <tbody>\n",
       "    <tr>\n",
       "      <th>6</th>\n",
       "      <td>7</td>\n",
       "      <td>Male</td>\n",
       "      <td>29</td>\n",
       "      <td>Teacher</td>\n",
       "      <td>6.3</td>\n",
       "      <td>6</td>\n",
       "      <td>40</td>\n",
       "      <td>7</td>\n",
       "      <td>Obese</td>\n",
       "      <td>140/90</td>\n",
       "      <td>82</td>\n",
       "      <td>3500</td>\n",
       "      <td>Insomnia</td>\n",
       "    </tr>\n",
       "    <tr>\n",
       "      <th>82</th>\n",
       "      <td>83</td>\n",
       "      <td>Male</td>\n",
       "      <td>35</td>\n",
       "      <td>Teacher</td>\n",
       "      <td>6.7</td>\n",
       "      <td>7</td>\n",
       "      <td>40</td>\n",
       "      <td>5</td>\n",
       "      <td>Overweight</td>\n",
       "      <td>128/84</td>\n",
       "      <td>70</td>\n",
       "      <td>5600</td>\n",
       "      <td>NaN</td>\n",
       "    </tr>\n",
       "    <tr>\n",
       "      <th>83</th>\n",
       "      <td>84</td>\n",
       "      <td>Male</td>\n",
       "      <td>35</td>\n",
       "      <td>Teacher</td>\n",
       "      <td>6.7</td>\n",
       "      <td>7</td>\n",
       "      <td>40</td>\n",
       "      <td>5</td>\n",
       "      <td>Overweight</td>\n",
       "      <td>128/84</td>\n",
       "      <td>70</td>\n",
       "      <td>5600</td>\n",
       "      <td>NaN</td>\n",
       "    </tr>\n",
       "    <tr>\n",
       "      <th>98</th>\n",
       "      <td>99</td>\n",
       "      <td>Female</td>\n",
       "      <td>36</td>\n",
       "      <td>Teacher</td>\n",
       "      <td>7.1</td>\n",
       "      <td>8</td>\n",
       "      <td>60</td>\n",
       "      <td>4</td>\n",
       "      <td>Normal</td>\n",
       "      <td>115/75</td>\n",
       "      <td>68</td>\n",
       "      <td>7000</td>\n",
       "      <td>NaN</td>\n",
       "    </tr>\n",
       "    <tr>\n",
       "      <th>99</th>\n",
       "      <td>100</td>\n",
       "      <td>Female</td>\n",
       "      <td>36</td>\n",
       "      <td>Teacher</td>\n",
       "      <td>7.1</td>\n",
       "      <td>8</td>\n",
       "      <td>60</td>\n",
       "      <td>4</td>\n",
       "      <td>Normal</td>\n",
       "      <td>115/75</td>\n",
       "      <td>68</td>\n",
       "      <td>7000</td>\n",
       "      <td>NaN</td>\n",
       "    </tr>\n",
       "    <tr>\n",
       "      <th>100</th>\n",
       "      <td>101</td>\n",
       "      <td>Female</td>\n",
       "      <td>36</td>\n",
       "      <td>Teacher</td>\n",
       "      <td>7.2</td>\n",
       "      <td>8</td>\n",
       "      <td>60</td>\n",
       "      <td>4</td>\n",
       "      <td>Normal</td>\n",
       "      <td>115/75</td>\n",
       "      <td>68</td>\n",
       "      <td>7000</td>\n",
       "      <td>NaN</td>\n",
       "    </tr>\n",
       "    <tr>\n",
       "      <th>101</th>\n",
       "      <td>102</td>\n",
       "      <td>Female</td>\n",
       "      <td>36</td>\n",
       "      <td>Teacher</td>\n",
       "      <td>7.2</td>\n",
       "      <td>8</td>\n",
       "      <td>60</td>\n",
       "      <td>4</td>\n",
       "      <td>Normal</td>\n",
       "      <td>115/75</td>\n",
       "      <td>68</td>\n",
       "      <td>7000</td>\n",
       "      <td>NaN</td>\n",
       "    </tr>\n",
       "    <tr>\n",
       "      <th>102</th>\n",
       "      <td>103</td>\n",
       "      <td>Female</td>\n",
       "      <td>36</td>\n",
       "      <td>Teacher</td>\n",
       "      <td>7.2</td>\n",
       "      <td>8</td>\n",
       "      <td>60</td>\n",
       "      <td>4</td>\n",
       "      <td>Normal</td>\n",
       "      <td>115/75</td>\n",
       "      <td>68</td>\n",
       "      <td>7000</td>\n",
       "      <td>NaN</td>\n",
       "    </tr>\n",
       "    <tr>\n",
       "      <th>103</th>\n",
       "      <td>104</td>\n",
       "      <td>Male</td>\n",
       "      <td>36</td>\n",
       "      <td>Teacher</td>\n",
       "      <td>6.6</td>\n",
       "      <td>5</td>\n",
       "      <td>35</td>\n",
       "      <td>7</td>\n",
       "      <td>Overweight</td>\n",
       "      <td>129/84</td>\n",
       "      <td>74</td>\n",
       "      <td>4800</td>\n",
       "      <td>Sleep Apnea</td>\n",
       "    </tr>\n",
       "    <tr>\n",
       "      <th>104</th>\n",
       "      <td>105</td>\n",
       "      <td>Female</td>\n",
       "      <td>36</td>\n",
       "      <td>Teacher</td>\n",
       "      <td>7.2</td>\n",
       "      <td>8</td>\n",
       "      <td>60</td>\n",
       "      <td>4</td>\n",
       "      <td>Normal</td>\n",
       "      <td>115/75</td>\n",
       "      <td>68</td>\n",
       "      <td>7000</td>\n",
       "      <td>Sleep Apnea</td>\n",
       "    </tr>\n",
       "    <tr>\n",
       "      <th>105</th>\n",
       "      <td>106</td>\n",
       "      <td>Male</td>\n",
       "      <td>36</td>\n",
       "      <td>Teacher</td>\n",
       "      <td>6.6</td>\n",
       "      <td>5</td>\n",
       "      <td>35</td>\n",
       "      <td>7</td>\n",
       "      <td>Overweight</td>\n",
       "      <td>129/84</td>\n",
       "      <td>74</td>\n",
       "      <td>4800</td>\n",
       "      <td>Insomnia</td>\n",
       "    </tr>\n",
       "    <tr>\n",
       "      <th>184</th>\n",
       "      <td>185</td>\n",
       "      <td>Female</td>\n",
       "      <td>42</td>\n",
       "      <td>Teacher</td>\n",
       "      <td>6.8</td>\n",
       "      <td>6</td>\n",
       "      <td>45</td>\n",
       "      <td>7</td>\n",
       "      <td>Overweight</td>\n",
       "      <td>130/85</td>\n",
       "      <td>78</td>\n",
       "      <td>5000</td>\n",
       "      <td>Sleep Apnea</td>\n",
       "    </tr>\n",
       "    <tr>\n",
       "      <th>185</th>\n",
       "      <td>186</td>\n",
       "      <td>Female</td>\n",
       "      <td>42</td>\n",
       "      <td>Teacher</td>\n",
       "      <td>6.8</td>\n",
       "      <td>6</td>\n",
       "      <td>45</td>\n",
       "      <td>7</td>\n",
       "      <td>Overweight</td>\n",
       "      <td>130/85</td>\n",
       "      <td>78</td>\n",
       "      <td>5000</td>\n",
       "      <td>Sleep Apnea</td>\n",
       "    </tr>\n",
       "    <tr>\n",
       "      <th>186</th>\n",
       "      <td>187</td>\n",
       "      <td>Female</td>\n",
       "      <td>43</td>\n",
       "      <td>Teacher</td>\n",
       "      <td>6.7</td>\n",
       "      <td>7</td>\n",
       "      <td>45</td>\n",
       "      <td>4</td>\n",
       "      <td>Overweight</td>\n",
       "      <td>135/90</td>\n",
       "      <td>65</td>\n",
       "      <td>6000</td>\n",
       "      <td>Insomnia</td>\n",
       "    </tr>\n",
       "    <tr>\n",
       "      <th>188</th>\n",
       "      <td>189</td>\n",
       "      <td>Female</td>\n",
       "      <td>43</td>\n",
       "      <td>Teacher</td>\n",
       "      <td>6.7</td>\n",
       "      <td>7</td>\n",
       "      <td>45</td>\n",
       "      <td>4</td>\n",
       "      <td>Overweight</td>\n",
       "      <td>135/90</td>\n",
       "      <td>65</td>\n",
       "      <td>6000</td>\n",
       "      <td>Insomnia</td>\n",
       "    </tr>\n",
       "    <tr>\n",
       "      <th>190</th>\n",
       "      <td>191</td>\n",
       "      <td>Female</td>\n",
       "      <td>43</td>\n",
       "      <td>Teacher</td>\n",
       "      <td>6.7</td>\n",
       "      <td>7</td>\n",
       "      <td>45</td>\n",
       "      <td>4</td>\n",
       "      <td>Overweight</td>\n",
       "      <td>135/90</td>\n",
       "      <td>65</td>\n",
       "      <td>6000</td>\n",
       "      <td>Insomnia</td>\n",
       "    </tr>\n",
       "    <tr>\n",
       "      <th>220</th>\n",
       "      <td>221</td>\n",
       "      <td>Female</td>\n",
       "      <td>44</td>\n",
       "      <td>Teacher</td>\n",
       "      <td>6.6</td>\n",
       "      <td>7</td>\n",
       "      <td>45</td>\n",
       "      <td>4</td>\n",
       "      <td>Overweight</td>\n",
       "      <td>135/90</td>\n",
       "      <td>65</td>\n",
       "      <td>6000</td>\n",
       "      <td>Insomnia</td>\n",
       "    </tr>\n",
       "    <tr>\n",
       "      <th>224</th>\n",
       "      <td>225</td>\n",
       "      <td>Female</td>\n",
       "      <td>44</td>\n",
       "      <td>Teacher</td>\n",
       "      <td>6.6</td>\n",
       "      <td>7</td>\n",
       "      <td>45</td>\n",
       "      <td>4</td>\n",
       "      <td>Overweight</td>\n",
       "      <td>135/90</td>\n",
       "      <td>65</td>\n",
       "      <td>6000</td>\n",
       "      <td>Insomnia</td>\n",
       "    </tr>\n",
       "    <tr>\n",
       "      <th>226</th>\n",
       "      <td>227</td>\n",
       "      <td>Female</td>\n",
       "      <td>44</td>\n",
       "      <td>Teacher</td>\n",
       "      <td>6.6</td>\n",
       "      <td>7</td>\n",
       "      <td>45</td>\n",
       "      <td>4</td>\n",
       "      <td>Overweight</td>\n",
       "      <td>135/90</td>\n",
       "      <td>65</td>\n",
       "      <td>6000</td>\n",
       "      <td>Insomnia</td>\n",
       "    </tr>\n",
       "    <tr>\n",
       "      <th>228</th>\n",
       "      <td>229</td>\n",
       "      <td>Female</td>\n",
       "      <td>44</td>\n",
       "      <td>Teacher</td>\n",
       "      <td>6.6</td>\n",
       "      <td>7</td>\n",
       "      <td>45</td>\n",
       "      <td>4</td>\n",
       "      <td>Overweight</td>\n",
       "      <td>135/90</td>\n",
       "      <td>65</td>\n",
       "      <td>6000</td>\n",
       "      <td>Insomnia</td>\n",
       "    </tr>\n",
       "    <tr>\n",
       "      <th>230</th>\n",
       "      <td>231</td>\n",
       "      <td>Female</td>\n",
       "      <td>44</td>\n",
       "      <td>Teacher</td>\n",
       "      <td>6.6</td>\n",
       "      <td>7</td>\n",
       "      <td>45</td>\n",
       "      <td>4</td>\n",
       "      <td>Overweight</td>\n",
       "      <td>135/90</td>\n",
       "      <td>65</td>\n",
       "      <td>6000</td>\n",
       "      <td>Insomnia</td>\n",
       "    </tr>\n",
       "    <tr>\n",
       "      <th>232</th>\n",
       "      <td>233</td>\n",
       "      <td>Female</td>\n",
       "      <td>44</td>\n",
       "      <td>Teacher</td>\n",
       "      <td>6.6</td>\n",
       "      <td>7</td>\n",
       "      <td>45</td>\n",
       "      <td>4</td>\n",
       "      <td>Overweight</td>\n",
       "      <td>135/90</td>\n",
       "      <td>65</td>\n",
       "      <td>6000</td>\n",
       "      <td>Insomnia</td>\n",
       "    </tr>\n",
       "    <tr>\n",
       "      <th>234</th>\n",
       "      <td>235</td>\n",
       "      <td>Female</td>\n",
       "      <td>44</td>\n",
       "      <td>Teacher</td>\n",
       "      <td>6.6</td>\n",
       "      <td>7</td>\n",
       "      <td>45</td>\n",
       "      <td>4</td>\n",
       "      <td>Overweight</td>\n",
       "      <td>135/90</td>\n",
       "      <td>65</td>\n",
       "      <td>6000</td>\n",
       "      <td>Insomnia</td>\n",
       "    </tr>\n",
       "    <tr>\n",
       "      <th>237</th>\n",
       "      <td>238</td>\n",
       "      <td>Female</td>\n",
       "      <td>44</td>\n",
       "      <td>Teacher</td>\n",
       "      <td>6.5</td>\n",
       "      <td>7</td>\n",
       "      <td>45</td>\n",
       "      <td>4</td>\n",
       "      <td>Overweight</td>\n",
       "      <td>135/90</td>\n",
       "      <td>65</td>\n",
       "      <td>6000</td>\n",
       "      <td>Insomnia</td>\n",
       "    </tr>\n",
       "    <tr>\n",
       "      <th>240</th>\n",
       "      <td>241</td>\n",
       "      <td>Female</td>\n",
       "      <td>44</td>\n",
       "      <td>Teacher</td>\n",
       "      <td>6.5</td>\n",
       "      <td>7</td>\n",
       "      <td>45</td>\n",
       "      <td>4</td>\n",
       "      <td>Overweight</td>\n",
       "      <td>135/90</td>\n",
       "      <td>65</td>\n",
       "      <td>6000</td>\n",
       "      <td>Insomnia</td>\n",
       "    </tr>\n",
       "    <tr>\n",
       "      <th>243</th>\n",
       "      <td>244</td>\n",
       "      <td>Female</td>\n",
       "      <td>44</td>\n",
       "      <td>Teacher</td>\n",
       "      <td>6.5</td>\n",
       "      <td>7</td>\n",
       "      <td>45</td>\n",
       "      <td>4</td>\n",
       "      <td>Overweight</td>\n",
       "      <td>135/90</td>\n",
       "      <td>65</td>\n",
       "      <td>6000</td>\n",
       "      <td>Insomnia</td>\n",
       "    </tr>\n",
       "    <tr>\n",
       "      <th>245</th>\n",
       "      <td>246</td>\n",
       "      <td>Female</td>\n",
       "      <td>44</td>\n",
       "      <td>Teacher</td>\n",
       "      <td>6.5</td>\n",
       "      <td>7</td>\n",
       "      <td>45</td>\n",
       "      <td>4</td>\n",
       "      <td>Overweight</td>\n",
       "      <td>135/90</td>\n",
       "      <td>65</td>\n",
       "      <td>6000</td>\n",
       "      <td>Insomnia</td>\n",
       "    </tr>\n",
       "    <tr>\n",
       "      <th>250</th>\n",
       "      <td>251</td>\n",
       "      <td>Female</td>\n",
       "      <td>45</td>\n",
       "      <td>Teacher</td>\n",
       "      <td>6.8</td>\n",
       "      <td>7</td>\n",
       "      <td>30</td>\n",
       "      <td>6</td>\n",
       "      <td>Overweight</td>\n",
       "      <td>135/90</td>\n",
       "      <td>65</td>\n",
       "      <td>6000</td>\n",
       "      <td>Insomnia</td>\n",
       "    </tr>\n",
       "    <tr>\n",
       "      <th>251</th>\n",
       "      <td>252</td>\n",
       "      <td>Female</td>\n",
       "      <td>45</td>\n",
       "      <td>Teacher</td>\n",
       "      <td>6.8</td>\n",
       "      <td>7</td>\n",
       "      <td>30</td>\n",
       "      <td>6</td>\n",
       "      <td>Overweight</td>\n",
       "      <td>135/90</td>\n",
       "      <td>65</td>\n",
       "      <td>6000</td>\n",
       "      <td>Insomnia</td>\n",
       "    </tr>\n",
       "    <tr>\n",
       "      <th>252</th>\n",
       "      <td>253</td>\n",
       "      <td>Female</td>\n",
       "      <td>45</td>\n",
       "      <td>Teacher</td>\n",
       "      <td>6.5</td>\n",
       "      <td>7</td>\n",
       "      <td>45</td>\n",
       "      <td>4</td>\n",
       "      <td>Overweight</td>\n",
       "      <td>135/90</td>\n",
       "      <td>65</td>\n",
       "      <td>6000</td>\n",
       "      <td>Insomnia</td>\n",
       "    </tr>\n",
       "    <tr>\n",
       "      <th>253</th>\n",
       "      <td>254</td>\n",
       "      <td>Female</td>\n",
       "      <td>45</td>\n",
       "      <td>Teacher</td>\n",
       "      <td>6.5</td>\n",
       "      <td>7</td>\n",
       "      <td>45</td>\n",
       "      <td>4</td>\n",
       "      <td>Overweight</td>\n",
       "      <td>135/90</td>\n",
       "      <td>65</td>\n",
       "      <td>6000</td>\n",
       "      <td>Insomnia</td>\n",
       "    </tr>\n",
       "    <tr>\n",
       "      <th>254</th>\n",
       "      <td>255</td>\n",
       "      <td>Female</td>\n",
       "      <td>45</td>\n",
       "      <td>Teacher</td>\n",
       "      <td>6.5</td>\n",
       "      <td>7</td>\n",
       "      <td>45</td>\n",
       "      <td>4</td>\n",
       "      <td>Overweight</td>\n",
       "      <td>135/90</td>\n",
       "      <td>65</td>\n",
       "      <td>6000</td>\n",
       "      <td>Insomnia</td>\n",
       "    </tr>\n",
       "    <tr>\n",
       "      <th>255</th>\n",
       "      <td>256</td>\n",
       "      <td>Female</td>\n",
       "      <td>45</td>\n",
       "      <td>Teacher</td>\n",
       "      <td>6.5</td>\n",
       "      <td>7</td>\n",
       "      <td>45</td>\n",
       "      <td>4</td>\n",
       "      <td>Overweight</td>\n",
       "      <td>135/90</td>\n",
       "      <td>65</td>\n",
       "      <td>6000</td>\n",
       "      <td>Insomnia</td>\n",
       "    </tr>\n",
       "    <tr>\n",
       "      <th>256</th>\n",
       "      <td>257</td>\n",
       "      <td>Female</td>\n",
       "      <td>45</td>\n",
       "      <td>Teacher</td>\n",
       "      <td>6.6</td>\n",
       "      <td>7</td>\n",
       "      <td>45</td>\n",
       "      <td>4</td>\n",
       "      <td>Overweight</td>\n",
       "      <td>135/90</td>\n",
       "      <td>65</td>\n",
       "      <td>6000</td>\n",
       "      <td>Insomnia</td>\n",
       "    </tr>\n",
       "    <tr>\n",
       "      <th>257</th>\n",
       "      <td>258</td>\n",
       "      <td>Female</td>\n",
       "      <td>45</td>\n",
       "      <td>Teacher</td>\n",
       "      <td>6.6</td>\n",
       "      <td>7</td>\n",
       "      <td>45</td>\n",
       "      <td>4</td>\n",
       "      <td>Overweight</td>\n",
       "      <td>135/90</td>\n",
       "      <td>65</td>\n",
       "      <td>6000</td>\n",
       "      <td>Insomnia</td>\n",
       "    </tr>\n",
       "    <tr>\n",
       "      <th>258</th>\n",
       "      <td>259</td>\n",
       "      <td>Female</td>\n",
       "      <td>45</td>\n",
       "      <td>Teacher</td>\n",
       "      <td>6.6</td>\n",
       "      <td>7</td>\n",
       "      <td>45</td>\n",
       "      <td>4</td>\n",
       "      <td>Overweight</td>\n",
       "      <td>135/90</td>\n",
       "      <td>65</td>\n",
       "      <td>6000</td>\n",
       "      <td>Insomnia</td>\n",
       "    </tr>\n",
       "    <tr>\n",
       "      <th>259</th>\n",
       "      <td>260</td>\n",
       "      <td>Female</td>\n",
       "      <td>45</td>\n",
       "      <td>Teacher</td>\n",
       "      <td>6.6</td>\n",
       "      <td>7</td>\n",
       "      <td>45</td>\n",
       "      <td>4</td>\n",
       "      <td>Overweight</td>\n",
       "      <td>135/90</td>\n",
       "      <td>65</td>\n",
       "      <td>6000</td>\n",
       "      <td>Insomnia</td>\n",
       "    </tr>\n",
       "    <tr>\n",
       "      <th>260</th>\n",
       "      <td>261</td>\n",
       "      <td>Female</td>\n",
       "      <td>45</td>\n",
       "      <td>Teacher</td>\n",
       "      <td>6.6</td>\n",
       "      <td>7</td>\n",
       "      <td>45</td>\n",
       "      <td>4</td>\n",
       "      <td>Overweight</td>\n",
       "      <td>135/90</td>\n",
       "      <td>65</td>\n",
       "      <td>6000</td>\n",
       "      <td>Insomnia</td>\n",
       "    </tr>\n",
       "    <tr>\n",
       "      <th>261</th>\n",
       "      <td>262</td>\n",
       "      <td>Female</td>\n",
       "      <td>45</td>\n",
       "      <td>Teacher</td>\n",
       "      <td>6.6</td>\n",
       "      <td>7</td>\n",
       "      <td>45</td>\n",
       "      <td>4</td>\n",
       "      <td>Overweight</td>\n",
       "      <td>135/90</td>\n",
       "      <td>65</td>\n",
       "      <td>6000</td>\n",
       "      <td>NaN</td>\n",
       "    </tr>\n",
       "    <tr>\n",
       "      <th>262</th>\n",
       "      <td>263</td>\n",
       "      <td>Female</td>\n",
       "      <td>45</td>\n",
       "      <td>Teacher</td>\n",
       "      <td>6.6</td>\n",
       "      <td>7</td>\n",
       "      <td>45</td>\n",
       "      <td>4</td>\n",
       "      <td>Overweight</td>\n",
       "      <td>135/90</td>\n",
       "      <td>65</td>\n",
       "      <td>6000</td>\n",
       "      <td>NaN</td>\n",
       "    </tr>\n",
       "  </tbody>\n",
       "</table>\n",
       "</div>"
      ],
      "text/plain": [
       "     Person ID  Gender  Age Occupation  Sleep Duration  Quality of Sleep  \\\n",
       "6            7    Male   29    Teacher             6.3                 6   \n",
       "82          83    Male   35    Teacher             6.7                 7   \n",
       "83          84    Male   35    Teacher             6.7                 7   \n",
       "98          99  Female   36    Teacher             7.1                 8   \n",
       "99         100  Female   36    Teacher             7.1                 8   \n",
       "100        101  Female   36    Teacher             7.2                 8   \n",
       "101        102  Female   36    Teacher             7.2                 8   \n",
       "102        103  Female   36    Teacher             7.2                 8   \n",
       "103        104    Male   36    Teacher             6.6                 5   \n",
       "104        105  Female   36    Teacher             7.2                 8   \n",
       "105        106    Male   36    Teacher             6.6                 5   \n",
       "184        185  Female   42    Teacher             6.8                 6   \n",
       "185        186  Female   42    Teacher             6.8                 6   \n",
       "186        187  Female   43    Teacher             6.7                 7   \n",
       "188        189  Female   43    Teacher             6.7                 7   \n",
       "190        191  Female   43    Teacher             6.7                 7   \n",
       "220        221  Female   44    Teacher             6.6                 7   \n",
       "224        225  Female   44    Teacher             6.6                 7   \n",
       "226        227  Female   44    Teacher             6.6                 7   \n",
       "228        229  Female   44    Teacher             6.6                 7   \n",
       "230        231  Female   44    Teacher             6.6                 7   \n",
       "232        233  Female   44    Teacher             6.6                 7   \n",
       "234        235  Female   44    Teacher             6.6                 7   \n",
       "237        238  Female   44    Teacher             6.5                 7   \n",
       "240        241  Female   44    Teacher             6.5                 7   \n",
       "243        244  Female   44    Teacher             6.5                 7   \n",
       "245        246  Female   44    Teacher             6.5                 7   \n",
       "250        251  Female   45    Teacher             6.8                 7   \n",
       "251        252  Female   45    Teacher             6.8                 7   \n",
       "252        253  Female   45    Teacher             6.5                 7   \n",
       "253        254  Female   45    Teacher             6.5                 7   \n",
       "254        255  Female   45    Teacher             6.5                 7   \n",
       "255        256  Female   45    Teacher             6.5                 7   \n",
       "256        257  Female   45    Teacher             6.6                 7   \n",
       "257        258  Female   45    Teacher             6.6                 7   \n",
       "258        259  Female   45    Teacher             6.6                 7   \n",
       "259        260  Female   45    Teacher             6.6                 7   \n",
       "260        261  Female   45    Teacher             6.6                 7   \n",
       "261        262  Female   45    Teacher             6.6                 7   \n",
       "262        263  Female   45    Teacher             6.6                 7   \n",
       "\n",
       "     Physical Activity Level  Stress Level BMI Category Blood Pressure  \\\n",
       "6                         40             7        Obese         140/90   \n",
       "82                        40             5   Overweight         128/84   \n",
       "83                        40             5   Overweight         128/84   \n",
       "98                        60             4       Normal         115/75   \n",
       "99                        60             4       Normal         115/75   \n",
       "100                       60             4       Normal         115/75   \n",
       "101                       60             4       Normal         115/75   \n",
       "102                       60             4       Normal         115/75   \n",
       "103                       35             7   Overweight         129/84   \n",
       "104                       60             4       Normal         115/75   \n",
       "105                       35             7   Overweight         129/84   \n",
       "184                       45             7   Overweight         130/85   \n",
       "185                       45             7   Overweight         130/85   \n",
       "186                       45             4   Overweight         135/90   \n",
       "188                       45             4   Overweight         135/90   \n",
       "190                       45             4   Overweight         135/90   \n",
       "220                       45             4   Overweight         135/90   \n",
       "224                       45             4   Overweight         135/90   \n",
       "226                       45             4   Overweight         135/90   \n",
       "228                       45             4   Overweight         135/90   \n",
       "230                       45             4   Overweight         135/90   \n",
       "232                       45             4   Overweight         135/90   \n",
       "234                       45             4   Overweight         135/90   \n",
       "237                       45             4   Overweight         135/90   \n",
       "240                       45             4   Overweight         135/90   \n",
       "243                       45             4   Overweight         135/90   \n",
       "245                       45             4   Overweight         135/90   \n",
       "250                       30             6   Overweight         135/90   \n",
       "251                       30             6   Overweight         135/90   \n",
       "252                       45             4   Overweight         135/90   \n",
       "253                       45             4   Overweight         135/90   \n",
       "254                       45             4   Overweight         135/90   \n",
       "255                       45             4   Overweight         135/90   \n",
       "256                       45             4   Overweight         135/90   \n",
       "257                       45             4   Overweight         135/90   \n",
       "258                       45             4   Overweight         135/90   \n",
       "259                       45             4   Overweight         135/90   \n",
       "260                       45             4   Overweight         135/90   \n",
       "261                       45             4   Overweight         135/90   \n",
       "262                       45             4   Overweight         135/90   \n",
       "\n",
       "     Heart Rate  Daily Steps Sleep Disorder  \n",
       "6            82         3500       Insomnia  \n",
       "82           70         5600            NaN  \n",
       "83           70         5600            NaN  \n",
       "98           68         7000            NaN  \n",
       "99           68         7000            NaN  \n",
       "100          68         7000            NaN  \n",
       "101          68         7000            NaN  \n",
       "102          68         7000            NaN  \n",
       "103          74         4800    Sleep Apnea  \n",
       "104          68         7000    Sleep Apnea  \n",
       "105          74         4800       Insomnia  \n",
       "184          78         5000    Sleep Apnea  \n",
       "185          78         5000    Sleep Apnea  \n",
       "186          65         6000       Insomnia  \n",
       "188          65         6000       Insomnia  \n",
       "190          65         6000       Insomnia  \n",
       "220          65         6000       Insomnia  \n",
       "224          65         6000       Insomnia  \n",
       "226          65         6000       Insomnia  \n",
       "228          65         6000       Insomnia  \n",
       "230          65         6000       Insomnia  \n",
       "232          65         6000       Insomnia  \n",
       "234          65         6000       Insomnia  \n",
       "237          65         6000       Insomnia  \n",
       "240          65         6000       Insomnia  \n",
       "243          65         6000       Insomnia  \n",
       "245          65         6000       Insomnia  \n",
       "250          65         6000       Insomnia  \n",
       "251          65         6000       Insomnia  \n",
       "252          65         6000       Insomnia  \n",
       "253          65         6000       Insomnia  \n",
       "254          65         6000       Insomnia  \n",
       "255          65         6000       Insomnia  \n",
       "256          65         6000       Insomnia  \n",
       "257          65         6000       Insomnia  \n",
       "258          65         6000       Insomnia  \n",
       "259          65         6000       Insomnia  \n",
       "260          65         6000       Insomnia  \n",
       "261          65         6000            NaN  \n",
       "262          65         6000            NaN  "
      ]
     },
     "execution_count": 70,
     "metadata": {},
     "output_type": "execute_result"
    }
   ],
   "source": [
    "teachers = df[df['Occupation'] == 'Teacher']\n",
    "teachers"
   ]
  },
  {
   "cell_type": "code",
   "execution_count": 72,
   "id": "27d9b73c-38f8-4278-9204-6422aef7ba30",
   "metadata": {},
   "outputs": [
    {
     "data": {
      "text/plain": [
       "<Axes: xlabel='Gender'>"
      ]
     },
     "execution_count": 72,
     "metadata": {},
     "output_type": "execute_result"
    },
    {
     "data": {
      "image/png": "[encoded data removed]",
      "text/plain": [
       "<Figure size 640x480 with 1 Axes>"
      ]
     },
     "metadata": {},
     "output_type": "display_data"
    }
   ],
   "source": [
    "teachers['Gender'].value_counts().plot(kind='bar')"
   ]
  },
  {
   "cell_type": "code",
   "execution_count": 73,
   "id": "ce1b1b69-28d8-491f-8579-65fdcb58bfee",
   "metadata": {},
   "outputs": [
    {
     "data": {
      "text/plain": [
       "Sleep Disorder\n",
       "Insomnia       27\n",
       "Sleep Apnea     4\n",
       "Name: count, dtype: int64"
      ]
     },
     "execution_count": 73,
     "metadata": {},
     "output_type": "execute_result"
    }
   ],
   "source": [
    "teachers['Sleep Disorder'].value_counts()"
   ]
  },
  {
   "cell_type": "code",
   "execution_count": 77,
   "id": "9a1543d7-31f0-47de-a29d-a2169307f983",
   "metadata": {},
   "outputs": [
    {
     "data": {
      "text/plain": [
       "<Axes: xlabel='Occupation'>"
      ]
     },
     "execution_count": 77,
     "metadata": {},
     "output_type": "execute_result"
    },
    {
     "data": {
      "image/png": "[encoded data removed]",
      "text/plain": [
       "<Figure size 640x480 with 1 Axes>"
      ]
     },
     "metadata": {},
     "output_type": "display_data"
    }
   ],
   "source": [
    "df.groupby('Occupation')['Stress Level'].size().plot(kind='bar')"
   ]
  },
  {
   "cell_type": "code",
   "execution_count": null,
   "id": "8d9d2e13-caf7-43a7-8261-d3f95229bcdc",
   "metadata": {},
   "outputs": [],
   "source": []
  },
  {
   "cell_type": "code",
   "execution_count": null,
   "id": "c7dcede3-2733-45b3-8d39-361b4327ab9e",
   "metadata": {},
   "outputs": [],
   "source": []
  },
  {
   "cell_type": "code",
   "execution_count": null,
   "id": "5d109a41-d936-4cc0-bba2-3b0c3f12510f",
   "metadata": {},
   "outputs": [],
   "source": []
  },
  {
   "cell_type": "code",
   "execution_count": null,
   "id": "fd9af2c1-182d-4da7-97e4-548950509b19",
   "metadata": {},
   "outputs": [],
   "source": []
  },
  {
   "cell_type": "code",
   "execution_count": null,
   "id": "653bee97-2fe2-4311-bf86-f6c304cf23b7",
   "metadata": {},
   "outputs": [],
   "source": []
  },
  {
   "cell_type": "code",
   "execution_count": null,
   "id": "90d68133-1676-4b3b-9560-83fdb9bab677",
   "metadata": {},
   "outputs": [],
   "source": []
  }
 ],
 "metadata": {
  "kernelspec": {
   "display_name": "Python 3 (ipykernel)",
   "language": "python",
   "name": "python3"
  },
  "language_info": {
   "codemirror_mode": {
    "name": "ipython",
    "version": 3
   },
   "file_extension": ".py",
   "mimetype": "text/x-python",
   "name": "python",
   "nbconvert_exporter": "python",
   "pygments_lexer": "ipython3",
   "version": "3.12.2"
  }
 },
 "nbformat": 4,
 "nbformat_minor": 5
}
